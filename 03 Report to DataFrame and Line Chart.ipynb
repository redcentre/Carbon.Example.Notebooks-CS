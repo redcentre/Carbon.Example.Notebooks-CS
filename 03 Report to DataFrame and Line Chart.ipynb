{
 "cells": [
  {
   "attachments": {},
   "cell_type": "markdown",
   "metadata": {},
   "source": [
    "### C# Interactive Notebook - Carbon Example No.3\n",
    "\n",
    "This example is a slightly more spohisticated version of C# example notebook no.2. A cross-tabulation report of brand popularity by month over a 5 year period is converted into a Microsoft DataFrame which is input to [Plotly.net](https://plotly.net/reference/index.html) to create a line chart."
   ]
  },
  {
   "cell_type": "code",
   "execution_count": 1,
   "metadata": {
    "dotnet_interactive": {
     "language": "csharp"
    }
   },
   "outputs": [
    {
     "data": {
      "text/html": [
       "<div><div></div><div></div><div><strong>Installed Packages</strong><ul><li><span>DataView.InteractiveExtension, 1.0.142</span></li><li><span>FSharp.Data, 6.6.0</span></li><li><span>Microsoft.Data.Analysis, 0.22.2</span></li><li><span>Microsoft.ML.DataView, 4.0.2</span></li><li><span>Plotly.NET, 5.1.0</span></li><li><span>Plotly.NET.Interactive, 5.0.0</span></li><li><span>RCS.Carbon.Licensing.RedCentre, 9.1.29</span></li><li><span>RCS.Carbon.Tables, 9.1.40</span></li></ul></div></div>"
      ]
     },
     "metadata": {},
     "output_type": "display_data"
    },
    {
     "data": {
      "text/plain": [
       "Loading extension script from `C:\\Users\\greg\\.nuget\\packages\\dataview.interactiveextension\\1.0.142\\interactive-extensions\\dotnet\\extension.dib`"
      ]
     },
     "metadata": {},
     "output_type": "display_data"
    }
   ],
   "source": [
    "#r \"nuget: RCS.Carbon.Tables\"\n",
    "#r \"nuget: RCS.Carbon.Licensing.RedCentre\"\n",
    "#r \"nuget: DataView.InteractiveExtension,*-*\"\n",
    "#r \"nuget: Microsoft.ML.DataView\"\n",
    "#r \"nuget: Microsoft.Data.Analysis\"\n",
    "#r \"nuget: Plotly.NET\"\n",
    "#r \"nuget: Plotly.NET.Interactive\"\n",
    "#r \"nuget: FSharp.Data\"\n",
    "\n",
    "using RCS.Carbon.Tables;\n",
    "using RCS.Carbon.Variables;\n",
    "using RCS.Carbon.Shared;\n",
    "using RCS.Licensing.Provider.Shared;\n",
    "using RCS.Licensing.Provider;"
   ]
  },
  {
   "attachments": {},
   "cell_type": "markdown",
   "metadata": {},
   "source": [
    "### Generate the cross-tabulation report\n",
    "\n",
    "- The `LoginId` parameters are the Id and password of the Carbon guest user account which has sufficient data quota to process the large number of cases used in the example.\n",
    "- Note that the report output has to be tweaked slightly to be in the exact format required by DataFrames. The X axis name is prefixed so that the X and Y axis labels border the rectangular data. The values '*' are converted to '0' because DataFrames expect numeric values."
   ]
  },
  {
   "cell_type": "code",
   "execution_count": 2,
   "metadata": {
    "dotnet_interactive": {
     "language": "csharp"
    }
   },
   "outputs": [
    {
     "name": "stdout",
     "output_type": "stream",
     "text": [
      "month\tBrand1\tBrand2\tBrand3\tBrand4\tBrand5\tBrand6\tBrand7\tBrand8\tBrand9\tBrand10\n",
      "Jan2021\t68.00%\t44.00%\t57.00%\t49.00%\t35.00%\t25.50%\t18.00%\t9.50%\t8.50%\t14.00%\n",
      "Feb2021\t65.00%\t47.00%\t59.00%\t47.50%\t38.00%\t27.00%\t17.50%\t10.50%\t9.50%\t10.50%\n",
      "Mar2021\t66.09%\t43.04%\t56.09%\t55.22%\t34.78%\t27.83%\t23.04%\t10.43%\t5.65%\t13.04%\n",
      "Apr2021\t60.45%\t50.45%\t59.09%\t50.91%\t36.36%\t26.82%\t24.09%\t15.00%\t7.73%\t14.55%\n",
      "May2021\t60.00%\t47.62%\t62.38%\t55.71%\t36.67%\t26.67%\t18.10%\t10.00%\t8.57%\t14.76%\n",
      "Jun2021\t66.82%\t47.73%\t52.73%\t53.18%\t40.91%\t26.82%\t21.36%\t12.73%\t5.45%\t11.36%\n",
      "Jul2021\t60.45%\t50.91%\t54.55%\t51.36%\t45.91%\t28.18%\t19.55%\t13.64%\t5.91%\t15.45%\n",
      "Aug2021\t65.00%\t44.55%\t59.09%\t55.00%\t37.73%\t26.36%\t23.18%\t12.73%\t7.73%\t10.91%\n",
      "Sep2021\t61.36%\t44.55%\t62.27%\t56.82%\t35.00%\t26.82%\t16.82%\t12.27%\t8.18%\t12.73%\n",
      "Oct2021\t66.19%\t46.19%\t56.19%\t55.71%\t37.14%\t27.14%\t17.62%\t14.76%\t5.71%\t13.33%\n",
      "Nov2021\t62.73%\t46.82%\t55.45%\t52.73%\t42.73%\t32.27%\t24.55%\t7.73%\t10.00%\t10.45%\n",
      "Dec2021\t60.00%\t48.33%\t59.44%\t55.56%\t42.78%\t25.56%\t20.00%\t10.56%\t6.67%\t12.78%\n",
      "Jan2022\t66.19%\t43.81%\t61.43%\t50.00%\t32.86%\t30.95%\t23.33%\t12.86%\t6.19%\t17.14%\n",
      "Feb2022\t65.50%\t47.50%\t58.00%\t51.00%\t34.50%\t25.00%\t19.50%\t12.00%\t8.50%\t14.00%\n",
      "Mar2022\t65.65%\t48.26%\t49.57%\t56.09%\t41.30%\t30.00%\t18.26%\t10.00%\t7.83%\t13.48%\n",
      "Apr2022\t64.29%\t46.67%\t60.95%\t55.24%\t40.95%\t27.62%\t20.48%\t13.81%\t6.67%\t10.48%\n",
      "May2022\t62.27%\t43.64%\t67.27%\t50.00%\t37.27%\t33.64%\t17.27%\t11.82%\t8.18%\t9.55%\n",
      "Jun2022\t69.55%\t47.27%\t55.91%\t47.73%\t40.45%\t30.00%\t21.82%\t14.09%\t5.00%\t11.82%\n",
      "Jul2022\t64.76%\t48.10%\t59.05%\t49.05%\t40.48%\t31.90%\t19.52%\t12.86%\t4.76%\t13.81%\n",
      "Aug2022\t64.78%\t46.09%\t58.26%\t51.74%\t36.09%\t29.57%\t15.65%\t10.43%\t6.09%\t11.74%\n",
      "Sep2022\t60.91%\t47.27%\t63.18%\t47.73%\t36.82%\t25.45%\t16.36%\t11.36%\t10.45%\t18.18%\n",
      "Oct2022\t72.86%\t51.90%\t59.52%\t56.19%\t29.52%\t24.76%\t19.52%\t12.86%\t3.81%\t14.29%\n",
      "Nov2022\t68.64%\t40.45%\t53.18%\t54.09%\t41.36%\t23.18%\t16.36%\t14.09%\t9.55%\t14.09%\n",
      "Dec2022\t71.76%\t51.18%\t58.24%\t50.00%\t37.65%\t22.35%\t18.24%\t10.59%\t7.06%\t12.35%\n",
      "Jan2023\t63.64%\t45.91%\t60.45%\t49.09%\t40.91%\t30.00%\t19.55%\t14.09%\t5.91%\t13.18%\n",
      "Feb2023\t70.50%\t45.00%\t56.00%\t45.00%\t37.00%\t29.50%\t19.00%\t10.50%\t8.50%\t9.50%\n",
      "Mar2023\t66.09%\t45.65%\t61.74%\t50.00%\t36.52%\t30.43%\t16.52%\t10.00%\t6.96%\t13.48%\n",
      "Apr2023\t68.00%\t44.00%\t61.00%\t50.50%\t39.00%\t27.50%\t19.00%\t9.00%\t9.50%\t13.50%\n",
      "May2023\t71.74%\t46.96%\t57.83%\t47.39%\t31.30%\t24.78%\t16.52%\t11.74%\t8.70%\t13.04%\n",
      "Jun2023\t69.55%\t48.64%\t59.55%\t45.00%\t35.91%\t29.55%\t15.91%\t13.18%\t7.73%\t10.91%\n",
      "Jul2023\t70.00%\t46.19%\t56.67%\t53.81%\t35.71%\t28.10%\t19.52%\t15.71%\t7.14%\t14.29%\n",
      "Aug2023\t73.91%\t44.35%\t60.00%\t43.91%\t36.96%\t33.91%\t17.39%\t12.17%\t6.96%\t13.91%\n",
      "Sep2023\t65.71%\t44.76%\t63.33%\t50.00%\t30.48%\t27.62%\t18.57%\t10.00%\t6.19%\t17.14%\n",
      "Oct2023\t67.27%\t49.09%\t59.09%\t56.82%\t35.00%\t26.36%\t19.09%\t10.45%\t5.00%\t12.73%\n",
      "Nov2023\t72.27%\t46.36%\t62.27%\t47.27%\t42.27%\t27.73%\t21.36%\t9.09%\t8.64%\t10.91%\n",
      "Dec2023\t67.50%\t49.38%\t66.25%\t42.50%\t41.25%\t25.00%\t18.12%\t6.88%\t7.50%\t14.37%\n",
      "Jan2024\t70.87%\t46.96%\t58.70%\t49.57%\t40.87%\t27.83%\t19.13%\t8.70%\t9.57%\t10.00%\n",
      "Feb2024\t69.52%\t46.67%\t57.62%\t51.43%\t37.14%\t29.52%\t16.19%\t11.43%\t6.19%\t10.48%\n",
      "Mar2024\t72.38%\t49.05%\t54.29%\t52.86%\t38.57%\t31.43%\t13.33%\t8.57%\t9.05%\t13.81%\n",
      "Apr2024\t72.73%\t46.36%\t65.91%\t43.18%\t38.64%\t24.55%\t18.18%\t8.64%\t8.18%\t12.27%\n",
      "May2024\t70.43%\t48.26%\t59.57%\t48.26%\t36.96%\t36.52%\t19.57%\t13.48%\t5.65%\t9.13%\n",
      "Jun2024\t74.00%\t43.50%\t59.50%\t51.00%\t39.50%\t29.50%\t17.50%\t10.00%\t8.50%\t13.00%\n",
      "Jul2024\t63.04%\t43.04%\t63.04%\t53.48%\t31.74%\t25.22%\t20.00%\t13.91%\t6.09%\t15.22%\n",
      "Aug2024\t64.09%\t49.09%\t63.64%\t52.27%\t35.91%\t26.36%\t17.73%\t12.27%\t7.73%\t16.36%\n",
      "Sep2024\t63.33%\t52.86%\t56.19%\t56.19%\t37.14%\t27.14%\t26.19%\t11.90%\t5.71%\t13.33%\n",
      "Oct2024\t60.00%\t51.30%\t60.00%\t49.57%\t37.39%\t25.65%\t23.04%\t11.74%\t6.09%\t15.22%\n",
      "Nov2024\t63.12%\t41.88%\t65.62%\t55.62%\t35.00%\t27.50%\t22.50%\t13.12%\t5.00%\t11.88%\n",
      "\r\n"
     ]
    }
   ],
   "source": [
    "\n",
    "var provider = new RedCentreLicensingProvider();\n",
    "var engine = new CrossTabEngine(provider);\n",
    "await engine.GetLicenceId(\"16499372\", \"C6H12O6\");\n",
    "engine.OpenJob(\"rcsruby\", \"demo\");\n",
    "\n",
    "var sprops  = new XSpecProperties(); \n",
    "sprops.InitAsMissing = true;\n",
    "\n",
    "var dprops  = new XDisplayProperties();\n",
    "dprops.Output.Format = XOutputFormat.TSV;\n",
    "dprops.Cells.Frequencies.Visible = false;\n",
    "dprops.Cells.RowPercents.Visible = true;    // Need this as Carbon table is transposed.\n",
    "dprops.Cells.ColumnPercents.Visible = false;\n",
    "dprops.Decimals.Frequencies = 0;\n",
    "dprops.Decimals.Expressions = 2;\n",
    "dprops.Decimals.Statistics = 2;\n",
    "\n",
    "dprops.Titles.Top.Visible = false;\n",
    "dprops.Titles.Side.Visible = false;\n",
    "dprops.Titles.Filter.Visible = false;\n",
    "dprops.Titles.Weight.Visible = false;\n",
    "dprops.Titles.Status.Visible = false;\n",
    "dprops.Titles.Name.Visible = false;\n",
    "\n",
    "dprops.Corner.Priority = XPriority.Top;\n",
    "\n",
    "string chartXaxis =\"month\";\n",
    "string seriesPlots = \"uba\";\n",
    "\n",
    "string ret = engine.GenTab(\"Example 03\", seriesPlots, chartXaxis + \"(*)\", null, null, sprops, dprops);\n",
    "\n",
    "string strRet = ret.Replace('*','0');\n",
    "\n",
    "Console.WriteLine(chartXaxis + strRet);"
   ]
  },
  {
   "attachments": {},
   "cell_type": "markdown",
   "metadata": {},
   "source": [
    "### Convert Carbon data to a DataFrame\n",
    "\n",
    "Also creates a list of chart series names"
   ]
  },
  {
   "cell_type": "code",
   "execution_count": 3,
   "metadata": {
    "dotnet_interactive": {
     "language": "csharp"
    }
   },
   "outputs": [
    {
     "data": {
      "text/html": [
       "<div class=\"dni-plaintext\"><pre>[ Brand1, Brand2, Brand3, Brand4, Brand5, Brand6, Brand7, Brand8, Brand9, Brand10 ]</pre></div><style>\r\n",
       ".dni-code-hint {\r\n",
       "    font-style: italic;\r\n",
       "    overflow: hidden;\r\n",
       "    white-space: nowrap;\r\n",
       "}\r\n",
       ".dni-treeview {\r\n",
       "    white-space: nowrap;\r\n",
       "}\r\n",
       ".dni-treeview td {\r\n",
       "    vertical-align: top;\r\n",
       "    text-align: start;\r\n",
       "}\r\n",
       "details.dni-treeview {\r\n",
       "    padding-left: 1em;\r\n",
       "}\r\n",
       "table td {\r\n",
       "    text-align: start;\r\n",
       "}\r\n",
       "table tr { \r\n",
       "    vertical-align: top; \r\n",
       "    margin: 0em 0px;\r\n",
       "}\r\n",
       "table tr td pre \r\n",
       "{ \r\n",
       "    vertical-align: top !important; \r\n",
       "    margin: 0em 0px !important;\r\n",
       "} \r\n",
       "table th {\r\n",
       "    text-align: start;\r\n",
       "}\r\n",
       "</style>"
      ]
     },
     "metadata": {},
     "output_type": "display_data"
    }
   ],
   "source": [
    "using Microsoft.Data.Analysis;\n",
    "using Microsoft.ML;\n",
    "using System.Collections.Generic;\n",
    "\n",
    "var df1 = DataFrame.LoadCsvFromString(chartXaxis +  strRet, '\\t');\n",
    "\n",
    "var chartSeriesNames = df1.Columns.Skip(1).Select(c => c.Name).ToArray();   // Skip first 1 which is the label \"month\"\n",
    "chartSeriesNames"
   ]
  },
  {
   "attachments": {},
   "cell_type": "markdown",
   "metadata": {},
   "source": [
    "### Plotly.Net\n",
    "\n",
    "API reference is https://plotly.net/reference/index.html\n",
    "\n",
    "This produces an interactive inline chart. Click legend to toggle series on and off. Use Zoom and Pan to see detail."
   ]
  },
  {
   "cell_type": "code",
   "execution_count": 4,
   "metadata": {
    "dotnet_interactive": {
     "language": "csharp"
    }
   },
   "outputs": [],
   "source": [
    "using Plotly.NET;\n",
    "using Plotly.NET.Interactive;\n",
    "using Plotly.NET.LayoutObjects;\n",
    "using Microsoft.FSharp.Core;\n",
    "using Microsoft.FSharp.Collections;"
   ]
  },
  {
   "cell_type": "code",
   "execution_count": 5,
   "metadata": {
    "dotnet_interactive": {
     "language": "csharp"
    }
   },
   "outputs": [],
   "source": [
    "\n",
    "LinearAxis catAxis = new LinearAxis();\n",
    "catAxis.SetValue(\"axistype\",\"Category\");\n",
    "catAxis.SetValue(\"title\", chartXaxis);\n",
    "catAxis.SetValue(\"zerolinecolor\", \"#ffff\");\n",
    "catAxis.SetValue(\"gridcolor\", \"#ffff\");\n",
    "catAxis.SetValue(\"showline\", true);\n",
    "catAxis.SetValue(\"zerolinewidth\",2);"
   ]
  },
  {
   "cell_type": "code",
   "execution_count": 6,
   "metadata": {
    "dotnet_interactive": {
     "language": "csharp"
    }
   },
   "outputs": [
    {
     "ename": "Error",
     "evalue": "(26,24): error CS0117: 'GenericChart' does not contain a definition for 'Figure'",
     "output_type": "error",
     "traceback": [
      "(26,24): error CS0117: 'GenericChart' does not contain a definition for 'Figure'"
     ]
    }
   ],
   "source": [
    "\n",
    "LinearAxis yAxis = new LinearAxis();\n",
    "yAxis.SetValue(\"title\", \"Respondents\");\n",
    "yAxis.SetValue(\"zerolinecolor\", \"#ffff\");\n",
    "yAxis.SetValue(\"gridcolor\", \"#ffff\");\n",
    "yAxis.SetValue(\"showline\", true);\n",
    "yAxis.SetValue(\"zerolinewidth\",2);\n",
    "\n",
    "Layout layout = new Layout();\n",
    "layout.SetValue(\"xaxis\", catAxis);\n",
    "layout.SetValue(\"yaxis\", yAxis);\n",
    "layout.SetValue(\"title\", \"Data from Carbon\");\n",
    "layout.SetValue(\"plot_bgcolor\", \"#e5ecf6\");\n",
    "layout.SetValue(\"showlegend\", true);\n",
    "\n",
    "var traces = new List<Trace>();\n",
    "for (int a = 0; a < chartSeriesNames.Length; a++)\n",
    "{\n",
    "    Trace t =new Trace(\"line\");\n",
    "    t.SetValue(\"x\", df1[chartXaxis]); \n",
    "    t.SetValue(\"y\", df1[chartSeriesNames[a]]); \n",
    "    t.SetValue(\"name\",chartSeriesNames[a]); \n",
    "    traces.Add(t);\n",
    "}\n",
    "\n",
    "var fig = GenericChart.Figure.create(ListModule.OfSeq(traces),layout);\n",
    "GenericChart.fromFigure(fig);"
   ]
  },
  {
   "cell_type": "code",
   "execution_count": 7,
   "metadata": {
    "dotnet_interactive": {
     "language": "csharp"
    }
   },
   "outputs": [
    {
     "name": "stdout",
     "output_type": "stream",
     "text": [
      "Job closed = True at 14:10:56\r\n"
     ]
    }
   ],
   "source": [
    "bool closed = engine.CloseJob();\n",
    "Console.WriteLine($\"Job closed = {closed} at {DateTime.Now:HH:mm:ss}\");"
   ]
  }
 ],
 "metadata": {
  "kernelspec": {
   "display_name": ".NET (C#)",
   "language": "C#",
   "name": ".net-csharp"
  },
  "language_info": {
   "file_extension": ".cs",
   "mimetype": "text/x-csharp",
   "name": "polyglot-notebook",
   "pygments_lexer": "csharp",
   "version": "9.0"
  },
  "orig_nbformat": 4,
  "polyglot_notebook": {
   "kernelInfo": {
    "defaultKernelName": "csharp",
    "items": [
     {
      "aliases": [],
      "name": "csharp"
     }
    ]
   }
  }
 },
 "nbformat": 4,
 "nbformat_minor": 2
}
