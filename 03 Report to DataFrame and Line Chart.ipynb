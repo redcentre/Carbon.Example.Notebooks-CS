{
 "cells": [
  {
   "attachments": {},
   "cell_type": "markdown",
   "metadata": {},
   "source": [
    "### C# Interactive Notebook - Carbon Example No.3\n",
    "\n",
    "This example is a slightly more spohisticated version of C# example notebook no.2. A cross-tabulation report of brand popularity by month over a 5 year period is converted into a Microsoft DataFrame which is input to [Plotly.net](https://plotly.net/reference/index.html) to create a line chart."
   ]
  },
  {
   "cell_type": "code",
   "execution_count": 1,
   "metadata": {
    "dotnet_interactive": {
     "language": "csharp"
    },
    "vscode": {
     "languageId": "polyglot-notebook"
    }
   },
   "outputs": [
    {
     "data": {
      "text/html": [
       "<div><div></div><div></div><div><strong>Installed Packages</strong><ul><li><span>DataView.InteractiveExtension, 1.0.142</span></li><li><span>FSharp.Data, 6.4.1</span></li><li><span>Microsoft.Data.Analysis, 0.22.2</span></li><li><span>Microsoft.ML.DataView, 4.0.2</span></li><li><span>Plotly.NET, 5.1.0</span></li><li><span>Plotly.NET.Interactive, 5.0.0</span></li><li><span>RCS.Carbon.Licensing.RedCentre, 9.1.10</span></li><li><span>RCS.Carbon.Tables, 9.1.10</span></li></ul></div></div>"
      ]
     },
     "metadata": {},
     "output_type": "display_data"
    },
    {
     "data": {
      "text/plain": [
       "Loading extension script from `C:\\Users\\greg\\.nuget\\packages\\dataview.interactiveextension\\1.0.142\\interactive-extensions\\dotnet\\extension.dib`"
      ]
     },
     "metadata": {},
     "output_type": "display_data"
    },
    {
     "data": {
      "text/markdown": [
       "Added support IDataView to kernel .NET."
      ]
     },
     "metadata": {},
     "output_type": "display_data"
    },
    {
     "data": {
      "text/plain": [
       "Loading extensions from `C:\\Users\\greg\\.nuget\\packages\\plotly.net.interactive\\5.0.0\\lib\\netstandard2.1\\Plotly.NET.Interactive.dll`"
      ]
     },
     "metadata": {},
     "output_type": "display_data"
    },
    {
     "data": {
      "text/plain": [
       "Loading extensions from `C:\\Users\\greg\\.nuget\\packages\\microsoft.data.analysis\\0.22.2\\interactive-extensions\\dotnet\\Microsoft.Data.Analysis.Interactive.dll`"
      ]
     },
     "metadata": {},
     "output_type": "display_data"
    }
   ],
   "source": [
    "#r \"nuget: RCS.Carbon.Tables\"\n",
    "#r \"nuget: RCS.Carbon.Licensing.RedCentre\"\n",
    "#r \"nuget: DataView.InteractiveExtension,*-*\"\n",
    "#r \"nuget: Microsoft.ML.DataView\"\n",
    "#r \"nuget: Microsoft.Data.Analysis\"\n",
    "#r \"nuget: Plotly.NET\"\n",
    "#r \"nuget: Plotly.NET.Interactive\"\n",
    "#r \"nuget: FSharp.Data\"\n",
    "\n",
    "using RCS.Carbon.Tables;\n",
    "using RCS.Carbon.Variables;\n",
    "using RCS.Carbon.Shared;\n",
    "using RCS.Carbon.Licensing.Shared;\n",
    "using RCS.Carbon.Licensing.RedCentre;"
   ]
  },
  {
   "attachments": {},
   "cell_type": "markdown",
   "metadata": {},
   "source": [
    "### Generate the cross-tabulation report\n",
    "\n",
    "- The `LoginId` parameters are the Id and password of the Carbon guest user account which has sufficient data quota to process the large number of cases used in the example.\n",
    "- Note that the report output has to be tweaked slightly to be in the exact format required by DataFrames. The X axis name is prefixed so that the X and Y axis labels border the rectangular data. The values '*' are converted to '0' because DataFrames expect numeric values."
   ]
  },
  {
   "cell_type": "code",
   "execution_count": 2,
   "metadata": {
    "dotnet_interactive": {
     "language": "csharp"
    },
    "vscode": {
     "languageId": "polyglot-notebook"
    }
   },
   "outputs": [
    {
     "ename": "Error",
     "evalue": "System.ApplicationException: User 'CarbonGuest' Id '16499372' licence has been borrowed by a different computer\r\n   at RCS.Licensing.Stdlib.LicensingClient.BorrowIdAuthenticate(BorrowIdAuthenticateRequest request)\r\n   at RCS.Licensing.Stdlib.LicensingClient.BorrowIdAuthenticate(String id, String password)\r\n   at RCS.Carbon.Licensing.RedCentre.RedCentreLicensingProvider.LoginId(String userId, String password, Boolean skipCache)\r\n   at RCS.Carbon.Variables.VEngine.LoginId(String userId, String password, Boolean skipCache)\r\n   at Submission#4.<<Initialize>>d__0.MoveNext()\r\n--- End of stack trace from previous location ---\r\n   at Microsoft.CodeAnalysis.Scripting.ScriptExecutionState.RunSubmissionsAsync[TResult](ImmutableArray`1 precedingExecutors, Func`2 currentExecutor, StrongBox`1 exceptionHolderOpt, Func`2 catchExceptionOpt, CancellationToken cancellationToken)",
     "output_type": "error",
     "traceback": [
      "System.ApplicationException: User 'CarbonGuest' Id '16499372' licence has been borrowed by a different computer\r\n",
      "   at RCS.Licensing.Stdlib.LicensingClient.BorrowIdAuthenticate(BorrowIdAuthenticateRequest request)\r\n",
      "   at RCS.Licensing.Stdlib.LicensingClient.BorrowIdAuthenticate(String id, String password)\r\n",
      "   at RCS.Carbon.Licensing.RedCentre.RedCentreLicensingProvider.LoginId(String userId, String password, Boolean skipCache)\r\n",
      "   at RCS.Carbon.Variables.VEngine.LoginId(String userId, String password, Boolean skipCache)\r\n",
      "   at Submission#4.<<Initialize>>d__0.MoveNext()\r\n",
      "--- End of stack trace from previous location ---\r\n",
      "   at Microsoft.CodeAnalysis.Scripting.ScriptExecutionState.RunSubmissionsAsync[TResult](ImmutableArray`1 precedingExecutors, Func`2 currentExecutor, StrongBox`1 exceptionHolderOpt, Func`2 catchExceptionOpt, CancellationToken cancellationToken)"
     ]
    }
   ],
   "source": [
    "\n",
    "var provider = new RedCentreLicensingProvider();\n",
    "var engine = new CrossTabEngine(provider);\n",
    "await engine.LoginId(\"16499372\", \"C6H12O6\");\n",
    "engine.OpenJob(\"rcsruby\", \"demo\");\n",
    "\n",
    "var sprops  = new XSpecProperties(); \n",
    "sprops.InitAsMissing = true;\n",
    "\n",
    "var dprops  = new XDisplayProperties();\n",
    "dprops.Output.Format = XOutputFormat.TSV;\n",
    "dprops.Cells.Frequencies.Visible = false;\n",
    "dprops.Cells.RowPercents.Visible = true;    // Need this as Carbon table is transposed.\n",
    "dprops.Cells.ColumnPercents.Visible = false;\n",
    "dprops.Decimals.Frequencies = 0;\n",
    "dprops.Decimals.Expressions = 2;\n",
    "dprops.Decimals.Statistics = 2;\n",
    "\n",
    "dprops.Titles.Top.Visible = false;\n",
    "dprops.Titles.Side.Visible = false;\n",
    "dprops.Titles.Filter.Visible = false;\n",
    "dprops.Titles.Weight.Visible = false;\n",
    "dprops.Titles.Status.Visible = false;\n",
    "dprops.Titles.Name.Visible = false;\n",
    "\n",
    "dprops.Corner.Priority = XPriority.Top;\n",
    "\n",
    "string chartXaxis =\"month\";\n",
    "string seriesPlots = \"uba\";\n",
    "\n",
    "string ret = engine.GenTab(\"Example 03\", seriesPlots, chartXaxis + \"(*)\", null, null, sprops, dprops);\n",
    "\n",
    "string strRet = ret.Replace('*','0');\n",
    "\n",
    "Console.WriteLine(chartXaxis + strRet);"
   ]
  },
  {
   "attachments": {},
   "cell_type": "markdown",
   "metadata": {},
   "source": [
    "### Convert Carbon data to a DataFrame\n",
    "\n",
    "Also creates a list of chart series names"
   ]
  },
  {
   "cell_type": "code",
   "execution_count": 3,
   "metadata": {
    "dotnet_interactive": {
     "language": "csharp"
    },
    "vscode": {
     "languageId": "polyglot-notebook"
    }
   },
   "outputs": [
    {
     "ename": "Error",
     "evalue": "System.FormatException: Empty file\r\n   at Microsoft.Data.Analysis.DataFrame.ReadCsvLinesIntoDataFrame(WrappedStreamReaderOrStringReader wrappedReader, Char separator, Boolean header, String[] columnNames, Type[] dataTypes, Int64 numberOfRowsToRead, Int32 guessRows, Boolean addIndexColumn, Boolean renameDuplicatedColumns, CultureInfo cultureInfo, Func`2 guessTypeFunction)\r\n   at Microsoft.Data.Analysis.DataFrame.LoadCsvFromString(String csvString, Char separator, Boolean header, String[] columnNames, Type[] dataTypes, Int64 numberOfRowsToRead, Int32 guessRows, Boolean addIndexColumn, Boolean renameDuplicatedColumns, CultureInfo cultureInfo, Func`2 guessTypeFunction)\r\n   at Submission#5.<<Initialize>>d__0.MoveNext()\r\n--- End of stack trace from previous location ---\r\n   at Microsoft.CodeAnalysis.Scripting.ScriptExecutionState.RunSubmissionsAsync[TResult](ImmutableArray`1 precedingExecutors, Func`2 currentExecutor, StrongBox`1 exceptionHolderOpt, Func`2 catchExceptionOpt, CancellationToken cancellationToken)",
     "output_type": "error",
     "traceback": [
      "System.FormatException: Empty file\r\n",
      "   at Microsoft.Data.Analysis.DataFrame.ReadCsvLinesIntoDataFrame(WrappedStreamReaderOrStringReader wrappedReader, Char separator, Boolean header, String[] columnNames, Type[] dataTypes, Int64 numberOfRowsToRead, Int32 guessRows, Boolean addIndexColumn, Boolean renameDuplicatedColumns, CultureInfo cultureInfo, Func`2 guessTypeFunction)\r\n",
      "   at Microsoft.Data.Analysis.DataFrame.LoadCsvFromString(String csvString, Char separator, Boolean header, String[] columnNames, Type[] dataTypes, Int64 numberOfRowsToRead, Int32 guessRows, Boolean addIndexColumn, Boolean renameDuplicatedColumns, CultureInfo cultureInfo, Func`2 guessTypeFunction)\r\n",
      "   at Submission#5.<<Initialize>>d__0.MoveNext()\r\n",
      "--- End of stack trace from previous location ---\r\n",
      "   at Microsoft.CodeAnalysis.Scripting.ScriptExecutionState.RunSubmissionsAsync[TResult](ImmutableArray`1 precedingExecutors, Func`2 currentExecutor, StrongBox`1 exceptionHolderOpt, Func`2 catchExceptionOpt, CancellationToken cancellationToken)"
     ]
    }
   ],
   "source": [
    "using Microsoft.Data.Analysis;\n",
    "using Microsoft.ML;\n",
    "using System.Collections.Generic;\n",
    "\n",
    "var df1 = DataFrame.LoadCsvFromString(chartXaxis +  strRet, '\\t');\n",
    "\n",
    "var chartSeriesNames = df1.Columns.Skip(1).Select(c => c.Name).ToArray();   // Skip first 1 which is the label \"month\"\n",
    "chartSeriesNames"
   ]
  },
  {
   "attachments": {},
   "cell_type": "markdown",
   "metadata": {},
   "source": [
    "### Plotly.Net\n",
    "\n",
    "API reference is https://plotly.net/reference/index.html\n",
    "\n",
    "This produces an interactive inline chart. Click legend to toggle series on and off. Use Zoom and Pan to see detail."
   ]
  },
  {
   "cell_type": "code",
   "execution_count": 4,
   "metadata": {
    "dotnet_interactive": {
     "language": "csharp"
    },
    "vscode": {
     "languageId": "polyglot-notebook"
    }
   },
   "outputs": [],
   "source": [
    "using Plotly.NET;\n",
    "using Plotly.NET.Interactive;\n",
    "using Plotly.NET.LayoutObjects;\n",
    "using Microsoft.FSharp.Core;\n",
    "using Microsoft.FSharp.Collections;"
   ]
  },
  {
   "cell_type": "code",
   "execution_count": 5,
   "metadata": {
    "dotnet_interactive": {
     "language": "csharp"
    },
    "vscode": {
     "languageId": "polyglot-notebook"
    }
   },
   "outputs": [],
   "source": [
    "\n",
    "LinearAxis catAxis = new LinearAxis();\n",
    "catAxis.SetValue(\"axistype\",\"Category\");\n",
    "catAxis.SetValue(\"title\", chartXaxis);\n",
    "catAxis.SetValue(\"zerolinecolor\", \"#ffff\");\n",
    "catAxis.SetValue(\"gridcolor\", \"#ffff\");\n",
    "catAxis.SetValue(\"showline\", true);\n",
    "catAxis.SetValue(\"zerolinewidth\",2);"
   ]
  },
  {
   "cell_type": "code",
   "execution_count": 6,
   "metadata": {
    "dotnet_interactive": {
     "language": "csharp"
    },
    "vscode": {
     "languageId": "polyglot-notebook"
    }
   },
   "outputs": [
    {
     "ename": "Error",
     "evalue": "(26,24): error CS0117: 'GenericChart' does not contain a definition for 'Figure'",
     "output_type": "error",
     "traceback": [
      "(26,24): error CS0117: 'GenericChart' does not contain a definition for 'Figure'"
     ]
    }
   ],
   "source": [
    "\n",
    "LinearAxis yAxis = new LinearAxis();\n",
    "yAxis.SetValue(\"title\", \"Respondents\");\n",
    "yAxis.SetValue(\"zerolinecolor\", \"#ffff\");\n",
    "yAxis.SetValue(\"gridcolor\", \"#ffff\");\n",
    "yAxis.SetValue(\"showline\", true);\n",
    "yAxis.SetValue(\"zerolinewidth\",2);\n",
    "\n",
    "Layout layout = new Layout();\n",
    "layout.SetValue(\"xaxis\", catAxis);\n",
    "layout.SetValue(\"yaxis\", yAxis);\n",
    "layout.SetValue(\"title\", \"Data from Carbon\");\n",
    "layout.SetValue(\"plot_bgcolor\", \"#e5ecf6\");\n",
    "layout.SetValue(\"showlegend\", true);\n",
    "\n",
    "var traces = new List<Trace>();\n",
    "for (int a = 0; a < chartSeriesNames.Length; a++)\n",
    "{\n",
    "    Trace t =new Trace(\"line\");\n",
    "    t.SetValue(\"x\", df1[chartXaxis]); \n",
    "    t.SetValue(\"y\", df1[chartSeriesNames[a]]); \n",
    "    t.SetValue(\"name\",chartSeriesNames[a]); \n",
    "    traces.Add(t);\n",
    "}\n",
    "\n",
    "var fig = GenericChart.Figure.create(ListModule.OfSeq(traces),layout);\n",
    "GenericChart.fromFigure(fig);"
   ]
  },
  {
   "cell_type": "code",
   "execution_count": 7,
   "metadata": {
    "dotnet_interactive": {
     "language": "csharp"
    },
    "vscode": {
     "languageId": "polyglot-notebook"
    }
   },
   "outputs": [
    {
     "name": "stdout",
     "output_type": "stream",
     "text": [
      "Job closed = False at 11:10:46\n",
      "Logout done. Licence borrow count is down to 1\n"
     ]
    }
   ],
   "source": [
    "bool closed = engine.CloseJob();\n",
    "Console.WriteLine($\"Job closed = {closed} at {DateTime.Now:HH:mm:ss}\");\n",
    "int count = await engine.LogoutId(\"16499372\");\n",
    "Console.WriteLine($\"Logout done. Licence borrow count is down to {count}\");"
   ]
  }
 ],
 "metadata": {
  "kernelspec": {
   "display_name": ".NET (C#)",
   "language": "C#",
   "name": ".net-csharp"
  },
  "language_info": {
   "file_extension": ".cs",
   "mimetype": "text/x-csharp",
   "name": "C#",
   "pygments_lexer": "csharp",
   "version": "9.0"
  },
  "orig_nbformat": 4,
  "polyglot_notebook": {
   "kernelInfo": {
    "defaultKernelName": "csharp",
    "items": [
     {
      "aliases": [],
      "name": "csharp"
     }
    ]
   }
  }
 },
 "nbformat": 4,
 "nbformat_minor": 2
}
