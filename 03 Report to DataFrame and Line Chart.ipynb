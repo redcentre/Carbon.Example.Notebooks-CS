{
 "cells": [
  {
   "attachments": {},
   "cell_type": "markdown",
   "metadata": {},
   "source": [
    "### C# Interactive Notebook - Carbon Example No.3\n",
    "\n",
    "This example is a slightly more spohisticated version of C# example notebook no.2. A cross-tabulation report of brand popularity by month over a 5 year period is converted into a Microsoft DataFrame which is input to [Plotly.net](https://plotly.net/reference/index.html) to create a line chart."
   ]
  },
  {
   "cell_type": "code",
   "execution_count": 44,
   "metadata": {
    "dotnet_interactive": {
     "language": "csharp"
    },
    "vscode": {
     "languageId": "polyglot-notebook"
    }
   },
   "outputs": [
    {
     "data": {
      "text/html": [
       "<div><div></div><div></div><div><strong>Installed Packages</strong><ul><li><span>DataView.InteractiveExtension, 1.0.104</span></li><li><span>FSharp.Data, 6.2.0</span></li><li><span>Microsoft.Data.Analysis, 0.20.1</span></li><li><span>Microsoft.ML.DataView, 2.0.1</span></li><li><span>Plotly.NET, 4.0.0</span></li><li><span>Plotly.NET.Interactive, 4.1.0</span></li><li><span>RCS.Carbon.Licensing.RedCentre, 1.0.1</span></li><li><span>RCS.Carbon.Tables, 8.5.0</span></li></ul></div></div>"
      ]
     },
     "metadata": {},
     "output_type": "display_data"
    }
   ],
   "source": [
    "#r \"nuget: RCS.Carbon.Tables\"\n",
    "#r \"nuget: RCS.Carbon.Licensing.RedCentre\"\n",
    "#r \"nuget: DataView.InteractiveExtension,*-*\"\n",
    "#r \"nuget: Microsoft.ML.DataView\"\n",
    "#r \"nuget: Microsoft.Data.Analysis\"\n",
    "#r \"nuget: Plotly.NET\"\n",
    "#r \"nuget: Plotly.NET.Interactive\"\n",
    "#r \"nuget: FSharp.Data\"\n",
    "\n",
    "using RCS.Carbon.Tables;\n",
    "using RCS.Carbon.Variables;\n",
    "using RCS.Carbon.Shared;\n",
    "using RCS.Carbon.Licensing.Shared;\n",
    "using RCS.Carbon.Licensing.RedCentre;"
   ]
  },
  {
   "attachments": {},
   "cell_type": "markdown",
   "metadata": {},
   "source": [
    "### Generate the cross-tabulation report\n",
    "\n",
    "- The `LoginId` parameters are the Id and password of the Carbon guest user account which has sufficient data quota to process the large number of cases used in the example.\n",
    "- Note that the report output has to be tweaked slightly to be in the exact format required by DataFrames. The X axis name is prefixed so that the X and Y axis labels border the rectangular data. The values '*' are converted to '0' because DataFrames expect numeric values."
   ]
  },
  {
   "cell_type": "code",
   "execution_count": 45,
   "metadata": {
    "dotnet_interactive": {
     "language": "csharp"
    },
    "vscode": {
     "languageId": "polyglot-notebook"
    }
   },
   "outputs": [
    {
     "name": "stdout",
     "output_type": "stream",
     "text": [
      "month\tBrand1\tBrand2\tBrand3\tBrand4\tBrand5\tBrand6\tBrand7\tBrand8\tBrand9\tBrand10\n",
      "Jan2011\t68.00%\t44.00%\t57.00%\t49.00%\t35.00%\t25.50%\t18.00%\t9.50%\t8.50%\t14.00%\n",
      "Feb2011\t65.00%\t47.00%\t59.00%\t47.50%\t38.00%\t27.00%\t17.50%\t10.50%\t9.50%\t10.50%\n",
      "Mar2011\t65.45%\t43.18%\t55.91%\t56.82%\t34.09%\t27.73%\t24.09%\t10.45%\t5.00%\t13.18%\n",
      "Apr2011\t60.00%\t52.00%\t59.00%\t50.00%\t37.00%\t26.50%\t23.00%\t14.00%\t8.50%\t13.50%\n",
      "May2011\t60.45%\t46.82%\t63.64%\t54.09%\t35.91%\t26.82%\t18.18%\t10.91%\t9.09%\t16.36%\n",
      "Jun2011\t65.24%\t47.62%\t50.48%\t56.19%\t40.48%\t27.62%\t22.38%\t12.38%\t4.29%\t11.43%\n",
      "Jul2011\t62.86%\t49.05%\t54.29%\t51.43%\t44.76%\t28.10%\t19.05%\t13.81%\t6.67%\t14.29%\n",
      "Aug2011\t64.78%\t44.78%\t58.70%\t52.61%\t41.30%\t25.65%\t23.04%\t13.48%\t6.52%\t12.61%\n",
      "Sep2011\t62.73%\t46.36%\t60.45%\t55.00%\t33.64%\t26.36%\t17.27%\t11.82%\t9.55%\t11.36%\n",
      "Oct2011\t63.81%\t46.67%\t60.00%\t57.14%\t37.14%\t27.62%\t17.14%\t12.86%\t6.19%\t12.38%\n",
      "Nov2011\t64.76%\t48.57%\t53.33%\t53.33%\t41.90%\t33.33%\t21.90%\t9.52%\t9.52%\t11.90%\n",
      "Dec2011\t57.65%\t46.47%\t60.59%\t55.88%\t45.29%\t24.71%\t25.88%\t12.35%\t5.88%\t12.35%\n",
      "Jan2012\t68.18%\t44.55%\t60.45%\t48.64%\t29.55%\t29.55%\t21.82%\t12.27%\t7.27%\t17.27%\n",
      "Feb2012\t63.00%\t45.50%\t57.50%\t54.00%\t39.50%\t27.50%\t20.50%\t11.00%\t8.50%\t13.00%\n",
      "Mar2012\t64.76%\t49.05%\t53.81%\t54.76%\t39.05%\t27.62%\t17.14%\t10.95%\t5.71%\t14.29%\n",
      "Apr2012\t66.50%\t45.50%\t57.00%\t57.00%\t39.50%\t26.50%\t20.00%\t13.50%\t8.00%\t10.50%\n",
      "May2012\t63.91%\t44.35%\t63.48%\t51.30%\t39.13%\t33.91%\t18.26%\t13.48%\t6.96%\t10.00%\n",
      "Jun2012\t65.50%\t47.00%\t60.00%\t47.50%\t41.50%\t35.00%\t19.00%\t12.50%\t7.00%\t10.50%\n",
      "Jul2012\t68.18%\t45.91%\t56.82%\t47.73%\t39.55%\t27.73%\t20.45%\t11.82%\t4.09%\t14.09%\n",
      "Aug2012\t63.91%\t50.00%\t60.87%\t48.70%\t38.26%\t30.43%\t18.26%\t13.04%\t5.65%\t10.43%\n",
      "Sep2012\t62.00%\t50.00%\t60.00%\t48.50%\t36.00%\t25.50%\t15.50%\t9.50%\t8.50%\t18.50%\n",
      "Oct2012\t66.09%\t44.78%\t64.35%\t56.52%\t29.57%\t24.78%\t18.70%\t13.91%\t8.26%\t13.04%\n",
      "Nov2012\t71.90%\t43.33%\t52.38%\t53.33%\t39.52%\t25.71%\t14.29%\t11.43%\t7.14%\t19.05%\n",
      "Dec2012\t69.38%\t45.00%\t55.62%\t55.00%\t40.62%\t24.38%\t21.88%\t11.25%\t6.88%\t11.25%\n",
      "Jan2013\t65.91%\t50.00%\t57.27%\t48.64%\t40.00%\t27.73%\t19.09%\t14.09%\t6.36%\t12.73%\n",
      "Feb2013\t71.00%\t47.50%\t61.50%\t43.00%\t36.50%\t28.50%\t20.00%\t12.00%\t8.00%\t12.00%\n",
      "Mar2013\t65.50%\t41.00%\t57.00%\t51.00%\t39.50%\t26.00%\t15.50%\t11.50%\t7.00%\t9.00%\n",
      "Apr2013\t67.14%\t49.52%\t60.95%\t47.14%\t37.14%\t31.43%\t19.05%\t8.10%\t7.14%\t14.29%\n",
      "May2013\t70.00%\t46.96%\t58.26%\t56.09%\t35.22%\t26.52%\t16.52%\t10.87%\t10.00%\t13.48%\n",
      "Jun2013\t71.58%\t45.26%\t60.00%\t38.42%\t32.63%\t24.74%\t18.42%\t13.68%\t8.95%\t11.05%\n",
      "Jul2013\t70.43%\t48.26%\t59.13%\t47.83%\t36.96%\t29.57%\t14.78%\t12.17%\t8.70%\t12.17%\n",
      "Aug2013\t72.27%\t40.00%\t59.55%\t55.45%\t37.73%\t31.36%\t20.45%\t14.09%\t5.91%\t12.27%\n",
      "Sep2013\t67.14%\t50.48%\t58.57%\t43.81%\t31.43%\t31.43%\t17.14%\t11.90%\t5.24%\t17.14%\n",
      "Oct2013\t68.70%\t41.74%\t64.35%\t53.91%\t31.74%\t28.70%\t18.70%\t9.57%\t6.52%\t16.96%\n",
      "Nov2013\t69.50%\t51.50%\t59.50%\t50.00%\t35.50%\t24.00%\t21.50%\t10.50%\t7.00%\t9.00%\n",
      "Dec2013\t71.18%\t47.06%\t63.53%\t47.06%\t47.65%\t28.82%\t19.41%\t7.65%\t7.65%\t14.71%\n",
      "Jan2014\t70.45%\t49.09%\t62.73%\t44.55%\t40.91%\t25.91%\t17.27%\t6.82%\t10.00%\t10.00%\n",
      "Feb2014\t66.00%\t48.50%\t57.50%\t49.50%\t37.00%\t30.50%\t20.00%\t10.00%\t7.50%\t12.50%\n",
      "Mar2014\t70.50%\t43.00%\t58.50%\t55.00%\t37.50%\t29.00%\t13.50%\t12.00%\t6.00%\t11.50%\n",
      "Apr2014\t72.86%\t51.90%\t57.14%\t46.19%\t41.90%\t28.10%\t17.14%\t8.10%\t9.05%\t11.90%\n",
      "May2014\t73.18%\t44.55%\t65.00%\t46.36%\t37.73%\t29.09%\t18.18%\t12.27%\t7.73%\t12.73%\n",
      "Jun2014\t72.00%\t49.00%\t58.00%\t49.00%\t36.00%\t36.00%\t19.00%\t10.00%\t7.00%\t9.50%\n",
      "Jul2014\t71.74%\t39.57%\t62.17%\t50.00%\t40.00%\t26.52%\t15.22%\t10.87%\t7.83%\t14.78%\n",
      "Aug2014\t63.33%\t48.57%\t61.43%\t52.86%\t30.48%\t26.67%\t20.95%\t15.24%\t5.24%\t13.81%\n",
      "Sep2014\t64.09%\t46.36%\t60.45%\t56.82%\t34.55%\t27.27%\t20.91%\t11.36%\t7.27%\t15.45%\n",
      "Oct2014\t60.43%\t54.78%\t60.00%\t51.30%\t37.83%\t26.52%\t23.04%\t12.17%\t7.83%\t13.91%\n",
      "Nov2014\t63.50%\t50.50%\t59.50%\t51.50%\t37.50%\t24.50%\t24.50%\t11.00%\t4.50%\t14.50%\n",
      "Dec2014\t60.71%\t41.43%\t65.00%\t56.43%\t34.29%\t28.57%\t22.86%\t13.57%\t5.00%\t12.86%\n",
      "\r\n"
     ]
    }
   ],
   "source": [
    "\n",
    "var provider = new RedCentreLicensingProvider();\n",
    "var engine = new CrossTabEngine(provider);\n",
    "await engine.LoginId(\"16499372\", \"C6H12O6\");\n",
    "engine.OpenJob(\"rcsruby\", \"demo\");\n",
    "\n",
    "var sprops  = new XSpecProperties(); \n",
    "sprops.InitAsMissing = true;\n",
    "\n",
    "var dprops  = new XDisplayProperties();\n",
    "dprops.Output.Format = XOutputFormat.TSV;\n",
    "dprops.Cells.Frequencies.Visible = false;\n",
    "dprops.Cells.RowPercents.Visible = true;    // Need this as Carbon table is transposed.\n",
    "dprops.Cells.ColumnPercents.Visible = false;\n",
    "dprops.Decimals.Frequencies = 0;\n",
    "dprops.Decimals.Expressions = 2;\n",
    "dprops.Decimals.Statistics = 2;\n",
    "\n",
    "dprops.Titles.Top.Visible = false;\n",
    "dprops.Titles.Side.Visible = false;\n",
    "dprops.Titles.Filter.Visible = false;\n",
    "dprops.Titles.Weight.Visible = false;\n",
    "dprops.Titles.Status.Visible = false;\n",
    "dprops.Titles.Name.Visible = false;\n",
    "\n",
    "dprops.Corner.Priority = XPriority.Top;\n",
    "\n",
    "string chartXaxis =\"month\";\n",
    "string seriesPlots = \"uba\";\n",
    "\n",
    "string ret = engine.GenTab(\"Example 03\", seriesPlots, chartXaxis + \"(*)\", null, null, sprops, dprops);\n",
    "\n",
    "string strRet = ret.Replace('*','0');\n",
    "\n",
    "Console.WriteLine(chartXaxis + strRet);"
   ]
  },
  {
   "attachments": {},
   "cell_type": "markdown",
   "metadata": {},
   "source": [
    "### Convert Carbon data to a DataFrame\n",
    "\n",
    "Also creates a list of chart series names"
   ]
  },
  {
   "cell_type": "code",
   "execution_count": 46,
   "metadata": {
    "dotnet_interactive": {
     "language": "csharp"
    },
    "vscode": {
     "languageId": "polyglot-notebook"
    }
   },
   "outputs": [
    {
     "data": {
      "text/html": [
       "<div class=\"dni-plaintext\"><pre>[ Brand1, Brand2, Brand3, Brand4, Brand5, Brand6, Brand7, Brand8, Brand9, Brand10 ]</pre></div><style>\r\n",
       ".dni-code-hint {\r\n",
       "    font-style: italic;\r\n",
       "    overflow: hidden;\r\n",
       "    white-space: nowrap;\r\n",
       "}\r\n",
       ".dni-treeview {\r\n",
       "    white-space: nowrap;\r\n",
       "}\r\n",
       ".dni-treeview td {\r\n",
       "    vertical-align: top;\r\n",
       "    text-align: start;\r\n",
       "}\r\n",
       "details.dni-treeview {\r\n",
       "    padding-left: 1em;\r\n",
       "}\r\n",
       "table td {\r\n",
       "    text-align: start;\r\n",
       "}\r\n",
       "table tr { \r\n",
       "    vertical-align: top; \r\n",
       "    margin: 0em 0px;\r\n",
       "}\r\n",
       "table tr td pre \r\n",
       "{ \r\n",
       "    vertical-align: top !important; \r\n",
       "    margin: 0em 0px !important;\r\n",
       "} \r\n",
       "table th {\r\n",
       "    text-align: start;\r\n",
       "}\r\n",
       "</style>"
      ]
     },
     "metadata": {},
     "output_type": "display_data"
    }
   ],
   "source": [
    "using Microsoft.Data.Analysis;\n",
    "using Microsoft.ML;\n",
    "using System.Collections.Generic;\n",
    "\n",
    "var df1 = DataFrame.LoadCsvFromString(chartXaxis +  strRet, '\\t');\n",
    "\n",
    "var chartSeriesNames = df1.Columns.Skip(1).Select(c => c.Name).ToArray();   // Skip first 1 which is the label \"month\"\n",
    "chartSeriesNames"
   ]
  },
  {
   "attachments": {},
   "cell_type": "markdown",
   "metadata": {},
   "source": [
    "### Plotly.Net\n",
    "\n",
    "API reference is https://plotly.net/reference/index.html\n",
    "\n",
    "This produces an interactive inline chart. Click legend to toggle series on and off. Use Zoom and Pan to see detail."
   ]
  },
  {
   "cell_type": "code",
   "execution_count": 47,
   "metadata": {
    "dotnet_interactive": {
     "language": "csharp"
    },
    "vscode": {
     "languageId": "polyglot-notebook"
    }
   },
   "outputs": [],
   "source": [
    "using Plotly.NET;\n",
    "using Plotly.NET.Interactive;\n",
    "using Plotly.NET.LayoutObjects;\n",
    "using Microsoft.FSharp.Core;\n",
    "using Microsoft.FSharp.Collections;"
   ]
  },
  {
   "cell_type": "code",
   "execution_count": 48,
   "metadata": {
    "dotnet_interactive": {
     "language": "csharp"
    },
    "vscode": {
     "languageId": "polyglot-notebook"
    }
   },
   "outputs": [],
   "source": [
    "\n",
    "LinearAxis catAxis = new LinearAxis();\n",
    "catAxis.SetValue(\"axistype\",\"Category\");\n",
    "catAxis.SetValue(\"title\", chartXaxis);\n",
    "catAxis.SetValue(\"zerolinecolor\", \"#ffff\");\n",
    "catAxis.SetValue(\"gridcolor\", \"#ffff\");\n",
    "catAxis.SetValue(\"showline\", true);\n",
    "catAxis.SetValue(\"zerolinewidth\",2);"
   ]
  },
  {
   "cell_type": "code",
   "execution_count": 49,
   "metadata": {
    "dotnet_interactive": {
     "language": "csharp"
    },
    "vscode": {
     "languageId": "polyglot-notebook"
    }
   },
   "outputs": [],
   "source": [
    "\n",
    "LinearAxis yAxis = new LinearAxis();\n",
    "yAxis.SetValue(\"title\", \"Respondents\");\n",
    "yAxis.SetValue(\"zerolinecolor\", \"#ffff\");\n",
    "yAxis.SetValue(\"gridcolor\", \"#ffff\");\n",
    "yAxis.SetValue(\"showline\", true);\n",
    "yAxis.SetValue(\"zerolinewidth\",2);\n",
    "\n",
    "Layout layout = new Layout();\n",
    "layout.SetValue(\"xaxis\", catAxis);\n",
    "layout.SetValue(\"yaxis\", yAxis);\n",
    "layout.SetValue(\"title\", \"Data from Carbon\");\n",
    "layout.SetValue(\"plot_bgcolor\", \"#e5ecf6\");\n",
    "layout.SetValue(\"showlegend\", true);\n",
    "\n",
    "var traces = new List<Trace>();\n",
    "for (int a = 0; a < chartSeriesNames.Length; a++)\n",
    "{\n",
    "    Trace t =new Trace(\"line\");\n",
    "    t.SetValue(\"x\", df1[chartXaxis]); \n",
    "    t.SetValue(\"y\", df1[chartSeriesNames[a]]); \n",
    "    t.SetValue(\"name\",chartSeriesNames[a]); \n",
    "    traces.Add(t);\n",
    "}\n",
    "\n",
    "var fig = GenericChart.Figure.create(ListModule.OfSeq(traces),layout);\n",
    "GenericChart.fromFigure(fig);"
   ]
  },
  {
   "cell_type": "code",
   "execution_count": 50,
   "metadata": {
    "dotnet_interactive": {
     "language": "csharp"
    },
    "vscode": {
     "languageId": "polyglot-notebook"
    }
   },
   "outputs": [
    {
     "name": "stdout",
     "output_type": "stream",
     "text": [
      "Job closed = True at 16:19:20\n",
      "Logout done. Licence borrow count is down to 1\n"
     ]
    }
   ],
   "source": [
    "bool closed = engine.CloseJob();\n",
    "Console.WriteLine($\"Job closed = {closed} at {DateTime.Now:HH:mm:ss}\");\n",
    "int count = await engine.LogoutId(\"16499372\");\n",
    "Console.WriteLine($\"Logout done. Licence borrow count is down to {count}\");"
   ]
  }
 ],
 "metadata": {
  "kernelspec": {
   "display_name": ".NET (C#)",
   "language": "C#",
   "name": ".net-csharp"
  },
  "language_info": {
   "file_extension": ".cs",
   "mimetype": "text/x-csharp",
   "name": "C#",
   "pygments_lexer": "csharp",
   "version": "9.0"
  },
  "orig_nbformat": 4
 },
 "nbformat": 4,
 "nbformat_minor": 2
}
