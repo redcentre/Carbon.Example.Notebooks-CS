{
 "cells": [
  {
   "attachments": {},
   "cell_type": "markdown",
   "metadata": {},
   "source": [
    "### C# Interactive Notebook - Carbon Example No.1\n",
    "\n",
    "This example notebook demonstrates the basic code required to use the Carbon cross-tabulation libraries to create a report. This notebook is a good place to start if you haven't used Carbon before. The code is separated into cells with their own explanations. In other notebooks, the repetitive *startup* code explained once in this notebook is simply placed in the first cell with the assumption that its purpose is understood.\n",
    "\n",
    "---\n",
    "\n",
    "Reference the public 'Tables' package which is used for Carbon cross-tabulation report generation. This reference will download the 'Tables' package and its child dependency packages and put them in a cache if they are not already there.\n",
    "\n",
    "The using statements below are the ones required for typical processing of Carbon reports."
   ]
  },
  {
   "cell_type": "code",
   "execution_count": 5,
   "metadata": {
    "dotnet_interactive": {
     "language": "csharp"
    }
   },
   "outputs": [
    {
     "data": {
      "text/html": [
       "<div><div></div><div></div><div><strong>Installed Packages</strong><ul><li><span>RCS.Carbon.Tables, 9.1.39</span></li></ul></div></div>"
      ]
     },
     "metadata": {},
     "output_type": "display_data"
    }
   ],
   "source": [
    "#r \"nuget: RCS.Carbon.Tables\"\n",
    "using RCS.Carbon.Tables;\n",
    "using RCS.Carbon.Variables;\n",
    "using RCS.Carbon.Shared;\n",
    "using RCS.Licensing.Provider.Shared;"
   ]
  },
  {
   "attachments": {},
   "cell_type": "markdown",
   "metadata": {},
   "source": [
    "Create an instance of a `CrossTabEngine` class which publishes most of the public Carbon API related to processing jobs, variables and reports. An application will normally keep one instance of the engine alive for the application lifetime."
   ]
  },
  {
   "cell_type": "code",
   "execution_count": 6,
   "metadata": {
    "dotnet_interactive": {
     "language": "csharp"
    }
   },
   "outputs": [],
   "source": [
    "var engine = new CrossTabEngine();"
   ]
  },
  {
   "attachments": {},
   "cell_type": "markdown",
   "metadata": {},
   "source": [
    "A licence must be registered in the engine before it can perform any useful work. The `GetFreeLicence` method retrieves the special *free* licence that can be used for evaluation. An instance of a `LicenceInfo` class is returned which contains account information which may be of interest in more advanced scenarios. Some of the licence properties are displayed.\n",
    "\n",
    "Note that **await** is used on the `GetFreeLicence` call because it makes an asynchronous call to a web service."
   ]
  },
  {
   "cell_type": "code",
   "execution_count": 7,
   "metadata": {
    "dotnet_interactive": {
     "language": "csharp"
    }
   },
   "outputs": [
    {
     "name": "stdout",
     "output_type": "stream",
     "text": [
      "Account Id ........... 10000010\n",
      "Account Name ......... free\n",
      "Account Email ........ GitHub Example App\n",
      "Account Roles ........ cache(7),free\n",
      "Account Vartrees ..... \n",
      "Account Vartrees ..... rcsruby,rcspublic\n"
     ]
    }
   ],
   "source": [
    "LicenceInfo licinfo = await engine.GetFreeLicence();\n",
    "Console.WriteLine($\"Account Id ........... {licinfo.Id}\");\n",
    "Console.WriteLine($\"Account Name ......... {licinfo.Name}\");\n",
    "Console.WriteLine($\"Account Email ........ {licinfo.Email}\");\n",
    "string rolejoin = string.Join(',', licinfo.Roles);\n",
    "Console.WriteLine($\"Account Roles ........ {rolejoin}\");\n",
    "string vtjoin = string.Join(',', licinfo.VartreeNames);\n",
    "Console.WriteLine($\"Account Vartrees ..... {vtjoin}\");\n",
    "string custjoin = string.Join(',', licinfo.Customers.Select(c => c.Name));\n",
    "Console.WriteLine($\"Account Vartrees ..... {custjoin}\");"
   ]
  },
  {
   "attachments": {},
   "cell_type": "markdown",
   "metadata": {},
   "source": [
    "The Carbon cross-tabulation engine can open *jobs* in the local filesystem or in cloud storage. A *job* is a collection of related reports and data. Just like files can be organised into folders, Carbon reports can be organised and managed in *jobs*. For this demonstration, a public cloud job is opened. This is one of many public demonstration cloud jobs published by [Red Centre Software](https://www.redcentresoftware.com/).\n",
    "\n",
    "The Carbon engine normally has one job open and active at any time. `OpenJob` can be called as needed to close the previous job and open a new one."
   ]
  },
  {
   "cell_type": "code",
   "execution_count": 8,
   "metadata": {
    "dotnet_interactive": {
     "language": "csharp"
    }
   },
   "outputs": [],
   "source": [
    "engine.OpenJob(\"rcsruby\", \"demo\");"
   ]
  },
  {
   "attachments": {},
   "cell_type": "markdown",
   "metadata": {},
   "source": [
    "A cross-tabulation report can now be generated for the open job.\n",
    "\n",
    "Create an instance of an `XSpecProperties` class which can provide advanced control over how a report is generated. A default class instance using all default values is satisfactory.\n",
    "\n",
    "Create an instance of an `xDisplayProperties` class which can provide detailed control over report appearance. A single property is set to specify that the report should be genrated in CSV (comma separated values) format. Other default values are satisfactory.\n",
    "\n",
    "Call `GenTab` with a specified title, top variable \"Age\" and side variable \"Region\". The returned string is a set of text lines joined with a newline (\\n) character."
   ]
  },
  {
   "cell_type": "code",
   "execution_count": 9,
   "metadata": {
    "dotnet_interactive": {
     "language": "csharp"
    }
   },
   "outputs": [
    {
     "name": "stdout",
     "output_type": "stream",
     "text": [
      "Name: Demo of Age × Region\n",
      "Top: Age\n",
      "Side: Region\n",
      "Filter: \n",
      "Weight: \n",
      "Status: \n",
      ",15-25,26-35,36-50,51-65,65+,Under 35,Over 35,Under 50,Over 50\n",
      "NE,41,53,44,45,55,94.00,144.00,138.00,100.00\n",
      "SE,43,48,49,52,46,91.00,147.00,140.00,98.00\n",
      "SW,48,38,42,67,52,86.00,161.00,128.00,119.00\n",
      "NW,40,58,68,58,53,98.00,179.00,166.00,111.00\n",
      "East,84,101,93,97,101,185.00,291.00,278.00,198.00\n",
      "West,88,96,110,125,105,184.00,340.00,294.00,230.00\n",
      "North,81,111,112,103,108,192.00,323.00,304.00,211.00\n",
      "South,91,86,91,119,98,177.00,308.00,268.00,217.00\n",
      "\r\n"
     ]
    }
   ],
   "source": [
    "var sprops = new XSpecProperties();\n",
    "var dprops = new XDisplayProperties();\n",
    "dprops.Output.Format = XOutputFormat.CSV;\n",
    "string report = engine.GenTab(\"Demo of Age × Region\", \"Age\", \"Region\", null, null, sprops, dprops);\n",
    "Console.WriteLine(report);"
   ]
  },
  {
   "attachments": {},
   "cell_type": "markdown",
   "metadata": {},
   "source": [
    "There are many text output formats available such CSV, TSV, XML and HTML. Special output formats include XLSX (Excel workbook), JSON in the exact format required for [pandas](https://pypi.org/project/pandas/) data processing, and [DataFrames](https://learn.microsoft.com/en-us/dotnet/api/microsoft.data.analysis.dataframe?view=ml-dotnet-preview) usable by Microsoft data analysis libraries.\n",
    "\n",
    "When all processing is complete, the `CloseJob` method should be called to release resouces held by the job."
   ]
  },
  {
   "cell_type": "code",
   "execution_count": 10,
   "metadata": {
    "dotnet_interactive": {
     "language": "csharp"
    }
   },
   "outputs": [
    {
     "name": "stdout",
     "output_type": "stream",
     "text": [
      "Job closed -> True\r\n"
     ]
    }
   ],
   "source": [
    "bool closed = engine.CloseJob();\n",
    "Console.WriteLine($\"Job closed -> {closed}\");"
   ]
  }
 ],
 "metadata": {
  "kernelspec": {
   "display_name": ".NET (C#)",
   "language": "C#",
   "name": ".net-csharp"
  },
  "language_info": {
   "name": "polyglot-notebook"
  },
  "polyglot_notebook": {
   "kernelInfo": {
    "defaultKernelName": "csharp",
    "items": [
     {
      "aliases": [],
      "name": ".NET"
     },
     {
      "aliases": [
       "C#",
       "c#"
      ],
      "languageName": "C#",
      "name": "csharp"
     },
     {
      "aliases": [
       "F#",
       "f#"
      ],
      "languageName": "F#",
      "name": "fsharp"
     },
     {
      "aliases": [],
      "languageName": "HTML",
      "name": "html"
     },
     {
      "aliases": [
       "js"
      ],
      "languageName": "JavaScript",
      "name": "javascript"
     },
     {
      "aliases": [],
      "languageName": "KQL",
      "name": "kql"
     },
     {
      "aliases": [],
      "languageName": "Mermaid",
      "name": "mermaid"
     },
     {
      "aliases": [
       "powershell"
      ],
      "languageName": "PowerShell",
      "name": "pwsh"
     },
     {
      "aliases": [],
      "languageName": "SQL",
      "name": "sql"
     },
     {
      "aliases": [],
      "name": "value"
     },
     {
      "aliases": [
       "frontend"
      ],
      "name": "vscode"
     },
     {
      "aliases": [],
      "name": "webview"
     }
    ]
   }
  }
 },
 "nbformat": 4,
 "nbformat_minor": 2
}
