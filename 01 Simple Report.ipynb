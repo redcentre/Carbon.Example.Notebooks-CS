{
 "cells": [
  {
   "cell_type": "markdown",
   "metadata": {},
   "source": [
    "### C# Interactive Notebook - Carbon Example No.1\n",
    "\n",
    "This example notebook demonstrates the basic code required to use the Carbon cross-tabulation libraries to create a report. This notebook is a good place to start if you haven't used Carbon before. The code is separated into cells with their own explanations. In other notebooks, the repetitive *startup* code explained once in this notebook is simply placed in the first cell with the assumption that its purpose is understood.\n",
    "\n",
    "---\n",
    "\n",
    "Reference the public 'Tables' package which is used for Carbon cross-tabulation report generation. This reference will download the 'Tables' package and its child dependency packages and put them in a cache if they are not already there.\n",
    "\n",
    "The three using statements are the ones required for typical processing of Carbon reports."
   ]
  },
  {
   "cell_type": "code",
   "execution_count": null,
   "metadata": {
    "dotnet_interactive": {
     "language": "csharp"
    },
    "vscode": {
     "languageId": "dotnet-interactive.csharp"
    }
   },
   "outputs": [
    {
     "data": {
      "text/html": [
       "<div><div></div><div></div><div><strong>Installed Packages</strong><ul><li><span>RCS.Carbon.Tables, 8.3.10</span></li></ul></div></div>"
      ]
     },
     "metadata": {},
     "output_type": "display_data"
    }
   ],
   "source": [
    "#r \"nuget: RCS.Carbon.Tables, 8.3.10\"\n",
    "using RCS.Carbon.Tables;\n",
    "using RCS.Carbon.Variables;\n",
    "using RCS.Carbon.Shared;"
   ]
  },
  {
   "cell_type": "markdown",
   "metadata": {},
   "source": [
    "Create an instance of a `CrossTabEngine` class which publishes most of the public Carbon API related to processing jobs, variables and reports. An application will normally keep one instance of the engine alive for the application lifetime."
   ]
  },
  {
   "cell_type": "code",
   "execution_count": null,
   "metadata": {
    "dotnet_interactive": {
     "language": "csharp"
    },
    "vscode": {
     "languageId": "dotnet-interactive.csharp"
    }
   },
   "outputs": [],
   "source": [
    "var engine = new CrossTabEngine();"
   ]
  },
  {
   "cell_type": "markdown",
   "metadata": {},
   "source": [
    "A licence must be registered in the engine before it can perform any useful work. The `LoginId` method takes licensing account Id and password credentials which are validated and determine what customers and jobs are available through the engine. The following line of code issues a login call using the credentials of the Carbon *demo* account. An instance of a `Licence` class is returned which contains lots of information about the account. Some of the licence properties are displayed, but they will probably only be of interest in more advanced scenarios.\n",
    "\n",
    "📙 Note that **await** is used on the `LoginId` call because it makes an asynchronous call to a web service."
   ]
  },
  {
   "cell_type": "code",
   "execution_count": null,
   "metadata": {
    "dotnet_interactive": {
     "language": "csharp"
    },
    "vscode": {
     "languageId": "dotnet-interactive.csharp"
    }
   },
   "outputs": [
    {
     "name": "stdout",
     "output_type": "stream",
     "text": [
      "Account Id ........... 16499372\r\n",
      "Account Name ......... CarbonGuest\r\n",
      "Account EntityName ... KNRCustomers\r\n",
      "Account Sunset ....... 01-Jan-2040\r\n"
     ]
    }
   ],
   "source": [
    "Licence lic = await engine.LoginId(\"16499372\", \"C6H12O6\");\n",
    "Console.WriteLine($\"Account Id ........... {lic.Id}\");\n",
    "Console.WriteLine($\"Account Name ......... {lic.Name}\");\n",
    "Console.WriteLine($\"Account EntityName ... {lic.EntityName}\");\n",
    "Console.WriteLine($\"Account Sunset ....... {lic.Sunset:dd-MMM-yyyy}\");"
   ]
  },
  {
   "cell_type": "markdown",
   "metadata": {},
   "source": [
    "The Carbon cross-tabulation engine can open *jobs* in the local filesystem or in cloud storage. A *job* is a collection of related reports and data. Just like files can be organised into folders, Carbon reports can be organised and managed in *jobs*. For this demonstration, a public cloud job is opened. This is one of many public demonstration cloud jobs published by [Red Centre Software](https://www.redcentresoftware.com/).\n",
    "\n",
    "The Carbon engine normally has one job open and active at any time. `OpenJob` can be called as needed to close the previous job and open a new one."
   ]
  },
  {
   "cell_type": "code",
   "execution_count": null,
   "metadata": {
    "dotnet_interactive": {
     "language": "csharp"
    },
    "vscode": {
     "languageId": "dotnet-interactive.csharp"
    }
   },
   "outputs": [],
   "source": [
    "engine.OpenJob(\"rcsruby\", \"demo\");"
   ]
  },
  {
   "cell_type": "markdown",
   "metadata": {},
   "source": [
    "A cross-tabulation report can now be generated for the open job.\n",
    "\n",
    "Create an instance of an `XSpecProperties` class which can provide advanced control over how a report is generated. A default class instance using all default values is satisfactory.\n",
    "\n",
    "Create an instance of an `xDisplayProperties` class which can provide detailed control over report appearance. A single property is set to specify that the report should be genrated in CSV (comma separated values) format. Other default values are satisfactory.\n",
    "\n",
    "Call `GenTab` with a specified title, top variable \"Age\" and side variable \"Region\". The returned string is a set of text lines joined with a newline (\\n) character."
   ]
  },
  {
   "cell_type": "code",
   "execution_count": null,
   "metadata": {
    "dotnet_interactive": {
     "language": "csharp"
    },
    "vscode": {
     "languageId": "dotnet-interactive.csharp"
    }
   },
   "outputs": [
    {
     "name": "stdout",
     "output_type": "stream",
     "text": [
      "Name: Demo of Age × Region\n",
      "Top: Age\n",
      "Side: Region\n",
      ",15-25,26-35,36-50,51-65,65+,Under 35,Over 35,Under 50,Over 50\n",
      "NE,479,498,501,504,540,977.00,1545.00,1478.00,1044.00\n",
      "SE,459,441,510,514,535,900.00,1559.00,1410.00,1049.00\n",
      "SW,523,467,457,517,511,990.00,1485.00,1447.00,1028.00\n",
      "NW,469,510,542,499,524,979.00,1565.00,1521.00,1023.00\n",
      "East,938,939,1011,1018,1075,1877.00,3104.00,2888.00,2093.00\n",
      "West,992,977,999,1016,1035,1969.00,3050.00,2968.00,2051.00\n",
      "North,948,1008,1043,1003,1064,1956.00,3110.00,2999.00,2067.00\n",
      "South,982,908,967,1031,1046,1890.00,3044.00,2857.00,2077.00\n",
      "\r\n"
     ]
    }
   ],
   "source": [
    "var sprops = new XSpecProperties();\n",
    "var dprops = new XDisplayProperties();\n",
    "dprops.Output.Format = XOutputFormat.CSV;\n",
    "string report = engine.GenTab(\"Demo of Age × Region\", \"Age\", \"Region\", null, null, sprops, dprops);\n",
    "Console.WriteLine(report);"
   ]
  },
  {
   "cell_type": "markdown",
   "metadata": {},
   "source": [
    "There are many text output formats available such CSV, TSV, XML and HTML. It's also possible to directly generate an XLSX (Excel workbook) file. Python developers can request JSON in the exact format required for [pandas](https://pypi.org/project/pandas/) data processing.\n",
    "\n",
    "When all processing is complete, the `CloseJob` method should be called to release resouces held by the job."
   ]
  },
  {
   "cell_type": "code",
   "execution_count": null,
   "metadata": {
    "dotnet_interactive": {
     "language": "csharp"
    },
    "vscode": {
     "languageId": "dotnet-interactive.csharp"
    }
   },
   "outputs": [
    {
     "name": "stdout",
     "output_type": "stream",
     "text": [
      "Job closed -> True\r\n"
     ]
    }
   ],
   "source": [
    "bool closed = engine.CloseJob();\n",
    "Console.WriteLine($\"Job closed -> {closed}\");"
   ]
  }
 ],
 "metadata": {
  "kernelspec": {
   "display_name": ".NET (C#)",
   "language": "C#",
   "name": ".net-csharp"
  },
  "language_info": {
   "file_extension": ".cs",
   "mimetype": "text/x-csharp",
   "name": "C#",
   "pygments_lexer": "csharp",
   "version": "9.0"
  },
  "orig_nbformat": 4
 },
 "nbformat": 4,
 "nbformat_minor": 2
}
