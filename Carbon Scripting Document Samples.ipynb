{
 "cells": [
  {
   "cell_type": "markdown",
   "metadata": {},
   "source": [
    "# Carbon Scripting\n",
    "\n",
    "Showing snippets of Carbon scripting code from the 'Carbon Scripting' document.\n",
    "\n",
    "Load Carbon from DLLs or Nugets"
   ]
  },
  {
   "cell_type": "code",
   "execution_count": 46,
   "metadata": {
    "dotnet_interactive": {
     "language": "csharp"
    },
    "vscode": {
     "languageId": "dotnet-interactive.csharp"
    }
   },
   "outputs": [
    {
     "data": {
      "text/html": [
       "<div><div></div><div></div><div><strong>Installed Packages</strong><ul><li><span>RCS.Carbon.Export, 8.3.17</span></li><li><span>RCS.Carbon.Import, 8.3.17</span></li><li><span>RCS.Carbon.Tables, 8.3.17</span></li></ul></div></div>"
      ]
     },
     "metadata": {},
     "output_type": "display_data"
    }
   ],
   "source": [
    "#r \"nuget: RCS.Carbon.Tables\"\n",
    "#r \"nuget: RCS.Carbon.Import\"\n",
    "#r \"nuget: RCS.Carbon.Export\"\n",
    "\n",
    "using System;\n",
    "using System.IO;\n",
    "using System.Text;\n",
    "using System.Collections.Generic;\n",
    "using System.Diagnostics;\n",
    "\n",
    "using RCS.Carbon.Shared;\n",
    "using RCS.Carbon.Tables;\n",
    "using RCS.Carbon.Variables;\n",
    "using RCS.Carbon.Import;\n",
    "using RCS.Carbon.Export;"
   ]
  },
  {
   "cell_type": "markdown",
   "metadata": {},
   "source": [
    "# LICENSING\n",
    " \n",
    "To use the Carbon library, you need a licence. Your normal Ruby licence will work, or you can \n",
    "use the standard Carbon Guest licence as in the examples here. Every script must execute at \n",
    "least the first two lines below"
   ]
  },
  {
   "cell_type": "code",
   "execution_count": 47,
   "metadata": {
    "dotnet_interactive": {
     "language": "csharp"
    },
    "vscode": {
     "languageId": "dotnet-interactive.csharp"
    }
   },
   "outputs": [
    {
     "name": "stdout",
     "output_type": "stream",
     "text": [
      "User: CarbonGuest DLL: 8.3.17.0\r\n"
     ]
    }
   ],
   "source": [
    "var eng = new CrossTabEngine();\n",
    "var login = await eng.LoginId(\"16499372\",\"C6H12O6\");   // guest licence\n",
    "Console.WriteLine($\"User: {login.Name} DLL: {eng.Version}\");"
   ]
  },
  {
   "cell_type": "markdown",
   "metadata": {},
   "source": [
    "# The CrossTab Engine\n",
    "\n",
    "CrossTabEngine is an object defined in RCS.Carbon.Tables.dll. You create one of these (here \n",
    "referenced as eng) and call its LoginId method, passing your user Id and password. The await\n",
    "modifier is because the function is asynchronous and waits for the return value before \n",
    "proceeding. The licence call could fail for many reasons (internet down, wrong credentials, \n",
    "licence expired etc). If this happens the script aborts with an error message. The credentials \n",
    "here are for the Carbon guest licence which anyone can use.\n",
    "\n",
    "\n",
    "Console.WriteLine shows how to give progress messages. Console.WriteLine can take a \n",
    "compound string. The leading $ means the text will be interspersed with objects – could be any \n",
    "of your variables or values. Anything inside {} is treated as an object reference and turned into \n",
    "a string. In this case the LicenceSummary object, referred to as login, has a member Name, \n",
    "referred to as login.Name, and the engine has a member called Version, referred to as \n",
    "eng.Version.\n"
   ]
  },
  {
   "cell_type": "markdown",
   "metadata": {},
   "source": [
    "# SELECT A JOB\n",
    "\n",
    "\n",
    "The next step is to select a job. Local jobs are identified solely by their folder path."
   ]
  },
  {
   "cell_type": "code",
   "execution_count": 48,
   "metadata": {
    "dotnet_interactive": {
     "language": "csharp"
    },
    "vscode": {
     "languageId": "dotnet-interactive.csharp"
    }
   },
   "outputs": [
    {
     "name": "stdout",
     "output_type": "stream",
     "text": [
      "User: CarbonGuest DLL: 8.3.17.0 Job: C:\\RedCentre\\Jobs\\Demo\r\n"
     ]
    }
   ],
   "source": [
    "var eng = new CrossTabEngine();\n",
    "var login = await eng.LoginId(\"16499372\",\"C6H12O6\");   // guest licence\n",
    "\n",
    "var jobdir = @\"C:\\RedCentre\\Jobs\\Demo\";\n",
    "eng.OpenJob(jobdir);\n",
    "Console.WriteLine($\"User: {login.Name} DLL: {eng.Version} Job: {jobdir}\");"
   ]
  },
  {
   "cell_type": "markdown",
   "metadata": {},
   "source": [
    "# Startup.csx\n",
    "\n",
    "In a command line environment, the below cell would be run as a seperate file. In a Notebook, we do it 'inline'.\n"
   ]
  },
  {
   "cell_type": "code",
   "execution_count": 72,
   "metadata": {
    "dotnet_interactive": {
     "language": "csharp"
    },
    "vscode": {
     "languageId": "dotnet-interactive.csharp"
    }
   },
   "outputs": [
    {
     "name": "stdout",
     "output_type": "stream",
     "text": [
      "User: CarbonGuest\r\n",
      "DLL: 8.3.17.0\r\n"
     ]
    }
   ],
   "source": [
    "// Declare and define global engine eng, dprops and sprops objects \n",
    "// Use eng to check the licence credentials\n",
    "// Define SetJobDir wrapper\n",
    "// Set some default table properties\n",
    "var eng = new CrossTabEngine();\n",
    "// Authentication\n",
    "var summary = await eng.LoginId(\"16499372\", \"C6H12O6\");\n",
    "Console.WriteLine($\"User: {summary.Name}\");\n",
    "Console.WriteLine($\"DLL: {eng.Version}\");\n",
    "// Assign job\n",
    "bool SetJobDir(string jobdir)\n",
    "{\n",
    "    try\n",
    "    {\n",
    "        eng.OpenJob(jobdir);\n",
    "    }\n",
    "    catch (Exception e)\n",
    "    {\n",
    "        Console.WriteLine($\"Could not open job at {jobdir}. {e.Message}\");\n",
    "        return false;\n",
    "    }\n",
    "    Console.WriteLine($\"Job: {eng.JobName}\");\n",
    "    return true;\n",
    "}\n",
    "// Default table properties for this job\n",
    "var sprops = new XSpecProperties() {}; \n",
    "var dprops = new XDisplayProperties() {};\n",
    "dprops.Output.Format = XOutputFormat.TSV;\n",
    "dprops.Cells.Frequencies.Visible = true; \n",
    "dprops.Cells.ColumnPercents.Visible = true;\n",
    "dprops.Cells.RowPercents.Visible = false;"
   ]
  },
  {
   "cell_type": "markdown",
   "metadata": {},
   "source": [
    "# OneTable.csx"
   ]
  },
  {
   "cell_type": "code",
   "execution_count": 50,
   "metadata": {
    "dotnet_interactive": {
     "language": "csharp"
    },
    "vscode": {
     "languageId": "dotnet-interactive.csharp"
    }
   },
   "outputs": [
    {
     "name": "stdout",
     "output_type": "stream",
     "text": [
      "Name: test\n",
      "Top: Respondent Gender\n",
      "Side: region\n",
      "\tCases WF\tMale\tFemale\n",
      "Cases WF\t10000\t4985\t5015\n",
      "NE\t2522\t1255\t1267\n",
      "\t \t25.18%\t25.26%\n",
      "SE\t2459\t1213\t1246\n",
      "\t \t24.33%\t24.85%\n",
      "SW\t2475\t1230\t1245\n",
      "\t \t24.67%\t24.83%\n",
      "NW\t2544\t1287\t1257\n",
      "\t \t25.82%\t25.06%\n",
      "\r\n"
     ]
    }
   ],
   "source": [
    "eng.OpenJob(jobdir);\n",
    "var ret = eng.GenTab(\"test\", \"gender(cwf;*)\", \"region(cwf;*)\", \"\", \"\", sprops, dprops); // sprops and dprops are defined in startup.csx\n",
    "Console.WriteLine(ret);"
   ]
  },
  {
   "cell_type": "markdown",
   "metadata": {},
   "source": [
    "# SaveTable.csx"
   ]
  },
  {
   "cell_type": "code",
   "execution_count": 74,
   "metadata": {
    "dotnet_interactive": {
     "language": "csharp"
    },
    "vscode": {
     "languageId": "dotnet-interactive.csharp"
    }
   },
   "outputs": [
    {
     "name": "stdout",
     "output_type": "stream",
     "text": [
      "Job: Demo\r\n",
      "Table saved to C:\\RedCentre\\SandPit\\report.txt\r\n"
     ]
    },
    {
     "data": {
      "text/html": [
       "<div class=\"dni-plaintext\">&lt;null&gt;</div>"
      ]
     },
     "metadata": {},
     "output_type": "display_data"
    }
   ],
   "source": [
    "if (!SetJobDir(@\"C:\\RedCentre\\Jobs\\Demo\")) return;\n",
    "var outfile = @\"C:\\RedCentre\\SandPit\\report.txt\";\n",
    "dprops.Cells.Frequencies.Visible = false; // change a display property\n",
    "dprops.Output.Format = XOutputFormat.SSV; // space-aligned\n",
    "var ret = eng.GenTab(\"test\", \"gender(cwf;*)\", \"region(cwf;*)\", \"\", \"\", sprops, dprops);\n",
    "\n",
    "File.AppendAllText(outfile, ret, Encoding.UTF8); // append to existing if present\n",
    "Console.WriteLine($\"Table saved to {outfile}\");\n",
    "Process.Start(\"Notepad\", outfile);"
   ]
  },
  {
   "cell_type": "markdown",
   "metadata": {},
   "source": [
    "# Output Many Tables\n",
    "You can run many tables and save to a single file using the internal OutputManager class. A \n",
    "typical sequence is:"
   ]
  },
  {
   "cell_type": "code",
   "execution_count": 32,
   "metadata": {
    "dotnet_interactive": {
     "language": "csharp"
    },
    "vscode": {
     "languageId": "dotnet-interactive.csharp"
    }
   },
   "outputs": [
    {
     "name": "stdout",
     "output_type": "stream",
     "text": [
      "Tables written to C:\\RedCentre\\Jobs\\Demo\\Docs\\docs\\ManyTables.tsv\r\n"
     ]
    }
   ],
   "source": [
    "eng.OutputManager.Open(XOutputFormat.TSV, @\"docs\\ManyTables.tsv\");\n",
    "eng.OutputManager.AppendLine(\"\\n *** Gender by Region ***\\n\"); // \\n is new line\n",
    "\n",
    "eng.GenTab(\"tab1\", \"gender\", \"region\", \"\", \"\", sprops, dprops);\n",
    "eng.OutputManager.AppendTable();\n",
    "\n",
    "eng.OutputManager.AppendLine(\"\\n *** Age by Education ***\\n\");\n",
    "eng.GenTab(\"tab2\", \"age\", \"edu\", \"\", \"\", sprops, dprops);\n",
    "eng.OutputManager.AppendTable();\n",
    "\n",
    "eng.OutputManager.Close();\n",
    "Console.WriteLine(\"Tables written to \" + eng.OutputManager.Message); "
   ]
  },
  {
   "cell_type": "markdown",
   "metadata": {},
   "source": [
    "# DefCodeFrame\n",
    "\n",
    "Use the DefCodeFrame object to create codeframes (*.MET files). This example creates the \n",
    "BrandX codes directly, the BrandY codes in a loop, and the BrandZ codes by adding multiple \n",
    "items in a single line. Nets for each brand are also added as a single line."
   ]
  },
  {
   "cell_type": "code",
   "execution_count": 33,
   "metadata": {
    "dotnet_interactive": {
     "language": "csharp"
    },
    "vscode": {
     "languageId": "dotnet-interactive.csharp"
    }
   },
   "outputs": [
    {
     "name": "stdout",
     "output_type": "stream",
     "text": [
      "Job: Demo\r\n",
      "Test1 saved in C:\\RedCentre\\Jobs\\Demo\\CaseData\r\n"
     ]
    },
    {
     "data": {
      "text/html": [
       "<div class=\"dni-plaintext\">&lt;null&gt;</div>"
      ]
     },
     "metadata": {},
     "output_type": "display_data"
    }
   ],
   "source": [
    "var jobdir = @\"C:\\RedCentre\\Jobs\\Demo\";\n",
    "if (!SetJobDir(jobdir)) return;\n",
    "var dcf = eng.NewDefCodeFrame(\"Test1\", \"Example DefCodeFrame\");\n",
    "if (dcf==null)\n",
    "{\n",
    " Console.WriteLine(eng.Message());\n",
    " return;\n",
    "}\n",
    "//BrandX\n",
    "dcf.AddCode(1, \"Brand1\");\n",
    "dcf.AddCode(2, \"Brand2\");\n",
    "dcf.AddCode(3, \"Brand3\");\n",
    "//BrandY\n",
    "for(int i = 4; i<= 6; i++) \n",
    "dcf.AddCode(i, $\"Brand{i}\");\n",
    "//BrandZ\n",
    "dcf.AddItems(\"7=Brand7\\n8=Brand8\\n9=Brand9\\n10=Brand10=BrandY\");\n",
    "//Nets\n",
    "dcf.AddItems(\"_net(1/3)=BrandX\\n_net(4/6)=BrandZ\\n_net(7/10)=BrandZ\");\n",
    "if (!dcf.Close()) Console.WriteLine(eng.Message());\n",
    "else Console.WriteLine(@$\"Test1 saved in {jobdir}\\CaseData\");"
   ]
  },
  {
   "cell_type": "markdown",
   "metadata": {},
   "source": [
    "# DefCon\n",
    "\n",
    "You create a DefCon object, here referenced as dcn, passing the variable name and description,\n",
    "and then call AddItem() and other routines to build the construction.\n",
    "\n",
    "\n",
    "This just writes the MET file, which you could construct with eng.Construct(varname) or by \n",
    "passing true in the Close call. \n",
    "dcn.Close(true);\n",
    "\n",
    "The DefCon subroutines are AddItem(), AddInc(), AddNextItem(), AddExpr(), SetFlags() and \n",
    "Close(). See Appendix 4 below for details.\n"
   ]
  },
  {
   "cell_type": "code",
   "execution_count": 34,
   "metadata": {
    "dotnet_interactive": {
     "language": "csharp"
    },
    "vscode": {
     "languageId": "dotnet-interactive.csharp"
    }
   },
   "outputs": [
    {
     "name": "stdout",
     "output_type": "stream",
     "text": [
      "Job: Demo\r\n",
      "Test2 saved in C:\\RedCentre\\Jobs\\Demo\\CaseData\r\n"
     ]
    },
    {
     "data": {
      "text/html": [
       "<div class=\"dni-plaintext\">&lt;null&gt;</div>"
      ]
     },
     "metadata": {},
     "output_type": "display_data"
    }
   ],
   "source": [
    "var jobdir = @\"C:\\RedCentre\\Jobs\\Demo\";\n",
    "if (!SetJobDir(jobdir)) return;\n",
    "var dcn = eng.NewDefCon(\"Test2\", \"Example DefCon\");\n",
    "if (dcn==null)\n",
    "{\n",
    " Console.WriteLine(eng.Message());\n",
    " return;\n",
    "}\n",
    "dcn.AddItem(1, \"Age(1/2)\", \"15yrs to 35yrs\");\n",
    "dcn.AddItem(2, \"Age(3/4)\", \"36yrs to 65yrs\");\n",
    "dcn.AddItem(3, \"Age(5)\", \"65yrs and above\");\n",
    "dcn.Close(true);\n",
    "Console.WriteLine(@$\"Test2 saved in {jobdir}\\CaseData\");"
   ]
  },
  {
   "cell_type": "markdown",
   "metadata": {},
   "source": [
    "# DefGen\n",
    "\n",
    "Use the DefGen object to generate the metadata (*.met) specification for constructed variables.\n",
    "First, we create a codeframe called AidedBrandList, then the generator uses the new code frame\n",
    "as the outer level (or top axis) of a Net Promoter Score (NPS) ratings grid"
   ]
  },
  {
   "cell_type": "code",
   "execution_count": 35,
   "metadata": {
    "dotnet_interactive": {
     "language": "csharp"
    },
    "vscode": {
     "languageId": "dotnet-interactive.csharp"
    }
   },
   "outputs": [
    {
     "name": "stdout",
     "output_type": "stream",
     "text": [
      "Job: Demo\r\n",
      "AidedBrandList and Test3 saved in C:\\RedCentre\\Jobs\\Demo\\CaseData\r\n"
     ]
    },
    {
     "data": {
      "text/html": [
       "<div class=\"dni-plaintext\">&lt;null&gt;</div>"
      ]
     },
     "metadata": {},
     "output_type": "display_data"
    }
   ],
   "source": [
    "var jobdir = @\"C:\\RedCentre\\Jobs\\Demo\";\n",
    "if (!SetJobDir(jobdir)) return;\n",
    "var dcf = eng.NewDefCodeFrame(\"AidedBrandList\", \"\");\n",
    "if (dcf==null)\n",
    "{\n",
    " Console.WriteLine(eng.Message());\n",
    " return;\n",
    "}\n",
    "dcf.AddCode(1, \"BrandX\");\n",
    "dcf.AddCode(2, \"BrandY\");\n",
    "dcf.AddCode(3, \"BrandZ\");\n",
    "dcf.Close();\n",
    "var dgn = eng.NewDefGen(\"Test3\", \"NPS_$a($b)\", \"\", \"Example DefGen\");\n",
    "if (dgn==null)\n",
    "{\n",
    " Console.WriteLine(eng.Message());\n",
    " return;\n",
    "}\n",
    "dgn.AddLevel(\"a\", \"Brand\", \"AidedBrandList\");\n",
    "dgn.AddLevel(\"b\", \"Rating\", \"NPS_1\");\n",
    "dgn.Close(true);\n",
    "Console.WriteLine(@$\"AidedBrandList and Test3 saved in {jobdir}\\CaseData\");"
   ]
  },
  {
   "cell_type": "markdown",
   "metadata": {},
   "source": [
    "# DefWght\n",
    "\n",
    "Use the DefWght object to create weight variables."
   ]
  },
  {
   "cell_type": "code",
   "execution_count": 36,
   "metadata": {
    "dotnet_interactive": {
     "language": "csharp"
    },
    "vscode": {
     "languageId": "dotnet-interactive.csharp"
    }
   },
   "outputs": [
    {
     "name": "stdout",
     "output_type": "stream",
     "text": [
      "Job: Demo\r\n",
      "Test4 saved in C:\\RedCentre\\Jobs\\Demo\\CaseData\r\n"
     ]
    },
    {
     "data": {
      "text/html": [
       "<div class=\"dni-plaintext\">&lt;null&gt;</div>"
      ]
     },
     "metadata": {},
     "output_type": "display_data"
    }
   ],
   "source": [
    "var jobdir = @\"C:\\RedCentre\\Jobs\\Demo\";\n",
    "if (!SetJobDir(jobdir)) return;\n",
    "var dwt = eng.NewDefWght(\"Test4\", \"Cell\", \"Month\", \"\", 0, 0, \"Example DefWght\");\n",
    "if (dwt==null)\n",
    "{\n",
    " Console.WriteLine(eng.Message());\n",
    " return;\n",
    "}\n",
    "dwt.AddTarget(\"Age\", \"10;30;30;20;10\");\n",
    "dwt.AddTarget(\"Gender\", \"40;60\");\n",
    "dwt.AddTarget(\"Region\", \"25;25;25;25\");\n",
    "dwt.Close(true);\n",
    "Console.WriteLine(@$\"Test4 saved in {jobdir}\\CaseData\");"
   ]
  },
  {
   "cell_type": "markdown",
   "metadata": {},
   "source": [
    "# DefGrid\n",
    "\n",
    "\n",
    "Use the DefGrid object to create grid variables. This is an alternative to using the more general \n",
    "DefGen and does not require intermediate codeframes."
   ]
  },
  {
   "cell_type": "code",
   "execution_count": 37,
   "metadata": {
    "dotnet_interactive": {
     "language": "csharp"
    },
    "vscode": {
     "languageId": "dotnet-interactive.csharp"
    }
   },
   "outputs": [
    {
     "name": "stdout",
     "output_type": "stream",
     "text": [
      "Job: Demo\r\n",
      "Test5 saved in C:\\RedCentre\\Jobs\\Demo\\CaseData\r\n"
     ]
    },
    {
     "data": {
      "text/html": [
       "<div class=\"dni-plaintext\">&lt;null&gt;</div>"
      ]
     },
     "metadata": {},
     "output_type": "display_data"
    }
   ],
   "source": [
    "var jobdir = @\"C:\\RedCentre\\Jobs\\Demo\";\n",
    "if (!SetJobDir(jobdir)) return;\n",
    "var dgr = eng.NewDefGrid(\"Test5\",\"copy of NPS\", \"Brand\", \"NPS_1;NPS_2;NPS_3\", \"Score\", \n",
    "\"NPS_1\");\n",
    "if (dgr==null)\n",
    "{\n",
    " Console.WriteLine(eng.Message());\n",
    " return;\n",
    "}\n",
    "dgr.Close(true);\n",
    "Console.WriteLine(@$\"Test5 saved in {jobdir}\\CaseData\");"
   ]
  },
  {
   "cell_type": "markdown",
   "metadata": {},
   "source": [
    "# DefNet\n",
    "Use the DefNet object to create an arbitrary set of nets at any hierarchic level."
   ]
  },
  {
   "cell_type": "code",
   "execution_count": 38,
   "metadata": {
    "dotnet_interactive": {
     "language": "csharp"
    },
    "vscode": {
     "languageId": "dotnet-interactive.csharp"
    }
   },
   "outputs": [
    {
     "name": "stdout",
     "output_type": "stream",
     "text": [
      "Job: Demo\r\n",
      "Test6 saved in C:\\RedCentre\\Jobs\\Demo\\CaseData\r\n"
     ]
    },
    {
     "data": {
      "text/html": [
       "<div class=\"dni-plaintext\">&lt;null&gt;</div>"
      ]
     },
     "metadata": {},
     "output_type": "display_data"
    }
   ],
   "source": [
    "var jobdir = @\"C:\\RedCentre\\Jobs\\Demo\";\n",
    "if (!SetJobDir(jobdir)) return;\n",
    "var dn = eng.NewDefNet(\"Test6\", \"Example DefNet\");\n",
    " var dnl = dn.AddLevel(\"Region\");\n",
    " dnl.AddItem(\"region(1/2)\", \"North\");\n",
    " dnl.AddItem(\"region(3/4)\", \"South\");\n",
    " dnl = dn.AddLevel(\"Work\");\n",
    " dnl.AddItem(\"occupation(1/2)\", \"Professional\");\n",
    " dnl.AddItem(\"occupation(2/3)\", \"Midlevel\");\n",
    " dnl.AddItem(\"occupation(4/5)\", \"Other\");\n",
    "dn.Close(true);\n",
    "Console.WriteLine(@$\"Test6 saved in {jobdir}\\CaseData\");"
   ]
  },
  {
   "cell_type": "markdown",
   "metadata": {},
   "source": [
    "# DefDates\n",
    "\n",
    "Use the DefDates object to create date variables as Modified Julian Dates (the day number since \n",
    "17Nov1858)"
   ]
  },
  {
   "cell_type": "code",
   "execution_count": 39,
   "metadata": {
    "dotnet_interactive": {
     "language": "csharp"
    },
    "vscode": {
     "languageId": "dotnet-interactive.csharp"
    }
   },
   "outputs": [
    {
     "name": "stdout",
     "output_type": "stream",
     "text": [
      "Job: Demo\r\n",
      "Test7 saved in C:\\RedCentre\\Jobs\\Demo\\CaseData\r\n"
     ]
    },
    {
     "data": {
      "text/html": [
       "<div class=\"dni-plaintext\">&lt;null&gt;</div>"
      ]
     },
     "metadata": {},
     "output_type": "display_data"
    }
   ],
   "source": [
    "var jobdir = @\"C:\\RedCentre\\Jobs\\Demo\";\n",
    "if (!SetJobDir(jobdir)) return;\n",
    "var ddt = eng.NewDefDates(\"Test7\", \"Date\", \"1y 1Jan2001\", \"Day\", \"mmmyyyy\", \"Example DefDates\");\n",
    "if (ddt==null)\n",
    "{\n",
    " Console.WriteLine(eng.Message());\n",
    " return;\n",
    "}\n",
    "ddt.Close(true);\n",
    "Console.WriteLine(@$\"Test7 saved in {jobdir}\\CaseData\");"
   ]
  },
  {
   "cell_type": "markdown",
   "metadata": {},
   "source": [
    "# Title Text Modes\n",
    "\n",
    "The Top and Side title text can be auto-generated according to four display property settings."
   ]
  },
  {
   "cell_type": "code",
   "execution_count": 40,
   "metadata": {
    "dotnet_interactive": {
     "language": "csharp"
    },
    "vscode": {
     "languageId": "dotnet-interactive.csharp"
    }
   },
   "outputs": [
    {
     "name": "stdout",
     "output_type": "stream",
     "text": [
      "Job: Demo\r\n",
      "Name: test\n",
      "Top: EDU(1/3)\n",
      "Side: Gender(cwf;*)\n",
      "          +------+------+------+\n",
      "          |LT HIG|HIGH S|JUNIOR|\n",
      "          |H SCHO|CHOOL | COLLE|\n",
      "          |OL    |      |GE    |\n",
      "----------+------+------+------+\n",
      "Cases WF  |1448  |5353  |736   |\n",
      "----------+------+------+------+\n",
      "Male      |50.07%|50.31%|47.69%|\n",
      "----------+------+------+------+\n",
      "Female    |49.93%|49.69%|52.31%|\n",
      "----------+------+------+------+\n",
      "\r\n"
     ]
    },
    {
     "data": {
      "text/html": [
       "<div class=\"dni-plaintext\">&lt;null&gt;</div>"
      ]
     },
     "metadata": {},
     "output_type": "display_data"
    }
   ],
   "source": [
    "if (!SetJobDir(@\"C:\\RedCentre\\Jobs\\Demo\")) return;\n",
    "dprops.Titles.Labelling.Script = true;\n",
    "dprops.Titles.Labelling.Codes = true;\n",
    "dprops.Titles.Labelling.Name = true;\n",
    "dprops.Titles.Labelling.Desc = true;\n",
    "\n",
    "var ret = eng.GenTab(\"test\", \"EDU(1/3)\", \"Gender(cwf;*)\", \"\", \"\",sprops,dprops);\n",
    "Console.WriteLine(ret);"
   ]
  },
  {
   "cell_type": "markdown",
   "metadata": {},
   "source": [
    "# ImportDemoDems.csx"
   ]
  },
  {
   "cell_type": "code",
   "execution_count": 41,
   "metadata": {
    "dotnet_interactive": {
     "language": "csharp"
    },
    "vscode": {
     "languageId": "dotnet-interactive.csharp"
    }
   },
   "outputs": [
    {
     "name": "stdout",
     "output_type": "stream",
     "text": [
      "Job: TestImport\r\n",
      "Importing: Demo_dems_2021.sav\r\n",
      "Imported 2550 cases over 11 variables\r\n"
     ]
    },
    {
     "data": {
      "text/html": [
       "<div class=\"dni-plaintext\">&lt;null&gt;</div>"
      ]
     },
     "metadata": {},
     "output_type": "display_data"
    }
   ],
   "source": [
    "var jobdir = @\"C:\\RedCentre\\Sandpit\\TestImport\";\n",
    "\n",
    "if (!SetJobDir(jobdir)) return;\n",
    "var sourcefile = \"Demo_dems_2021.sav\"; // relative to <jobdir>\\Source\\\n",
    "var imp = new ImportEngine();\n",
    "imp.AttachJob(eng);\n",
    "ImportSavSettings settings = new ImportSavSettings();\n",
    "settings.TryBlend = false;\n",
    "Console.WriteLine(\"Importing: \" + sourcefile);\n",
    "var ret = imp.ImportSAV(sourcefile, settings);\n",
    "Console.WriteLine(ret);"
   ]
  },
  {
   "cell_type": "markdown",
   "metadata": {},
   "source": [
    "# ExportVariables.csx"
   ]
  },
  {
   "cell_type": "code",
   "execution_count": 42,
   "metadata": {
    "dotnet_interactive": {
     "language": "csharp"
    },
    "vscode": {
     "languageId": "dotnet-interactive.csharp"
    }
   },
   "outputs": [
    {
     "name": "stdout",
     "output_type": "stream",
     "text": [
      "Job: TestExport\r\n",
      "Wrote three files with stem TestOut to C:\\RedCentre\\Sandpit\\TestExport\r\n"
     ]
    },
    {
     "data": {
      "text/html": [
       "<div class=\"dni-plaintext\">&lt;null&gt;</div>"
      ]
     },
     "metadata": {},
     "output_type": "display_data"
    }
   ],
   "source": [
    "var jobdir = @\"C:\\RedCentre\\Sandpit\\TestExport\";\n",
    "if (!SetJobDir(jobdir)) return;\n",
    "string exportvars = \"Region,AgeX,UBA\";\n",
    "var exp = new ExportEngine();\n",
    "exp.AttachJob(eng);\n",
    "var settings = new ExportSettings(\"TestOut\")\n",
    "{\n",
    "Format = VExportType.Tableau\n",
    "};\n",
    "var result = exp.ExportVars(exportvars, settings);\n",
    "Console.WriteLine(result);"
   ]
  },
  {
   "cell_type": "markdown",
   "metadata": {},
   "source": [
    "# ACCESSING CLOUD JOBS\n",
    "\n",
    "The only difference for accessing a cloud job is the OpenJob command. If called with two \n",
    "parameters, as customer account and job name, then the Azure connection is automatically \n",
    "established, and all case data reads will be from the Azure storage. A stable and fast internet \n",
    "connection is advised."
   ]
  },
  {
   "cell_type": "code",
   "execution_count": 43,
   "metadata": {
    "dotnet_interactive": {
     "language": "csharp"
    },
    "vscode": {
     "languageId": "dotnet-interactive.csharp"
    }
   },
   "outputs": [
    {
     "name": "stdout",
     "output_type": "stream",
     "text": [
      "Azure job opened: gss\r\n",
      "Name: Tab1\n",
      "Top: Race of respondent\n",
      "Side: r's highest degree\n",
      "          +------+------+------+------+------+\n",
      "          |Cases |IAP   |WHITE |BLACK |OTHER |\n",
      "          |WF    |      |      |      |      |\n",
      "----------+------+------+------+------+------+\n",
      "Cases WF  |68846 |0     |52033 |9187  |3594  |\n",
      "----------+------+------+------+------+------+\n",
      "less than |13833 |0     |9920  |2696  |971   |\n",
      "----------+------+------+------+------+------+\n",
      "HIGH SCHOO|34792 |0     |26967 |4721  |1507  |\n",
      "----------+------+------+------+------+------+\n",
      "associate/|4038  |0     |2876  |564   |228   |\n",
      "----------+------+------+------+------+------+\n",
      "bachelor's|10511 |0     |8127  |801   |547   |\n",
      "----------+------+------+------+------+------+\n",
      "GRADUATE  |5476  |0     |4031  |353   |332   |\n",
      "----------+------+------+------+------+------+\n",
      "IAP       |0     |0     |0     |0     |0     |\n",
      "----------+------+------+------+------+------+\n",
      "DK        |30    |0     |21    |7     |2     |\n",
      "----------+------+------+------+------+------+\n",
      "NA        |143   |0     |91    |45    |7     |\n",
      "----------+------+------+------+------+------+\n",
      "\r\n"
     ]
    }
   ],
   "source": [
    "var jobname = \"gss\"; // USA General Social Survey\n",
    "var eng = new CrossTabEngine(); \n",
    "await eng.LoginId(\"16499372\",\"C6H12O6\"); // guest licence\n",
    "eng.OpenJob(\"rcspublic\", jobname); // Azure access happens here\n",
    "Console.WriteLine($\"Azure job opened: {jobname}\");\n",
    "var dprops = new XDisplayProperties();\n",
    "dprops.Output.Format = XOutputFormat.SSV; // space formatted\n",
    "var sprops = new XSpecProperties();\n",
    "var ret = eng.GenTab(\"Tab1\", \"Race(cwf%;*)\", \"Degree(cwf%;*)\", \"\", \"\", sprops, dprops);\n",
    "Console.WriteLine(ret);"
   ]
  },
  {
   "cell_type": "markdown",
   "metadata": {},
   "source": [
    "# ExportVars_Azure.csx\n",
    "\n",
    "This example shows how to send outputs to a local directory."
   ]
  },
  {
   "cell_type": "code",
   "execution_count": 44,
   "metadata": {
    "dotnet_interactive": {
     "language": "csharp"
    },
    "vscode": {
     "languageId": "dotnet-interactive.csharp"
    }
   },
   "outputs": [
    {
     "name": "stdout",
     "output_type": "stream",
     "text": [
      "Azure job opened: gss\r\n",
      "Wrote three files with stem TestOut to C:\\RedCentre\\Sandpit\r\n"
     ]
    }
   ],
   "source": [
    "var jobname = \"gss\"; // USA General Social Survey\n",
    "var eng = new CrossTabEngine(); \n",
    "await eng.LoginId(\"16499372\",\"C6H12O6\"); // guest licence\n",
    "eng.OpenJob(\"rcspublic\", jobname); // Azure access happens here\n",
    "Console.WriteLine($\"Azure job opened: {jobname}\");\n",
    "eng.SetHomeDir(@\"C:\\RedCentre\\Sandpit\"); // Azure data will arrive here\n",
    "string exportvars = \"race,Age8,sex\";\n",
    "var exp = new ExportEngine();\n",
    "exp.AttachJob(eng);\n",
    "var settings = new ExportSettings(\"TestOut\")\n",
    "{\n",
    "Format = VExportType.Tableau\n",
    "};\n",
    "var result = exp.ExportVars(exportvars, settings);\n",
    "Console.WriteLine(result);"
   ]
  }
 ],
 "metadata": {
  "kernelspec": {
   "display_name": ".NET (C#)",
   "language": "C#",
   "name": ".net-csharp"
  },
  "language_info": {
   "file_extension": ".cs",
   "mimetype": "text/x-csharp",
   "name": "C#",
   "pygments_lexer": "csharp",
   "version": "9.0"
  },
  "orig_nbformat": 4
 },
 "nbformat": 4,
 "nbformat_minor": 2
}
