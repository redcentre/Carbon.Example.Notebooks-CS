{
 "cells": [
  {
   "cell_type": "markdown",
   "metadata": {},
   "source": [
    "### C# Interactive Notebook - Carbon Example No.2\n",
    "\n",
    "This example notebook demonstrates how the Carbon library can generate a cross-tabulation report as a [DataFrame](https://learn.microsoft.com/en-us/dotnet/api/microsoft.data.analysis.dataframe) which is defined in the [Microsoft.Data.Analysis](https://learn.microsoft.com/en-us/dotnet/api/microsoft.data.analysis) namespace. The DataFrame class is designed to hold rows and columns of data and it provides powerful methods designed to help data scientists select, transform and report on the data. The DataFrame class is recognised by many public data analysis libraries, including [Plotly.NET](https://plotly.net/) which can generate a wide variety of charts and plots from the data contained in a DataFrame. This notebook demonstrates how Carbon can generate a DataFrame which is then used create attractive visualisations.\n",
    "\n",
    "---\n",
    "\n",
    "The first cell contains *boilerplate* code to create a Carbon engine, login and open a demo cloud job."
   ]
  },
  {
   "cell_type": "code",
   "execution_count": null,
   "metadata": {
    "dotnet_interactive": {
     "language": "csharp"
    },
    "vscode": {
     "languageId": "dotnet-interactive.csharp"
    }
   },
   "outputs": [
    {
     "data": {
      "text/html": [
       "<div><div></div><div></div><div><strong>Installed Packages</strong><ul><li><span>RCS.Carbon.TableOutput.DataFrame, 8.3.10</span></li><li><span>RCS.Carbon.Tables, 8.3.10</span></li></ul></div></div>"
      ]
     },
     "metadata": {},
     "output_type": "display_data"
    }
   ],
   "source": [
    "#r \"nuget: RCS.Carbon.Tables, 8.3.10\"\n",
    "#r \"nuget: RCS.Carbon.TableOutput.DataFrame, 8.3.10\"\n",
    "using RCS.Carbon.Tables;\n",
    "using RCS.Carbon.Variables;\n",
    "using RCS.Carbon.Shared;\n",
    "using RCS.Carbon.TableOutput.DataFrame;\n",
    "\n",
    "var engine = new CrossTabEngine();\n",
    "await engine.GetFreeLicence();\n",
    "engine.OpenJob(\"rcsruby\", \"demo\");\n"
   ]
  },
  {
   "cell_type": "markdown",
   "metadata": {},
   "source": [
    "The Carbon `Gentab` method runs cross-tabulation processing with \"Age\" as the top variables and \"Region\" as the side variable. An instance of the `XDataFrameFormat` helper class is created to convert the internal display table into a DataFrame."
   ]
  },
  {
   "cell_type": "code",
   "execution_count": null,
   "metadata": {
    "dotnet_interactive": {
     "language": "csharp"
    },
    "vscode": {
     "languageId": "dotnet-interactive.csharp"
    }
   },
   "outputs": [
    {
     "data": {
      "text/html": [
       "<div><div></div><div></div><div><strong>Installed Packages</strong><ul><li><span>microsoft.data.analysis, 0.19.1</span></li></ul></div></div>"
      ]
     },
     "metadata": {},
     "output_type": "display_data"
    },
    {
     "data": {
      "text/html": [
       "<table id=\"table_637996139185412819\"><thead><tr><th><i>index</i></th><th>key</th><th>15-25</th><th>26-35</th><th>36-50</th><th>51-65</th><th>65+</th><th>Under 35</th><th>Over 35</th><th>Under 50</th><th>Over 50</th></tr></thead><tbody><tr><td><i><div class=\"dni-plaintext\">0</div></i></td><td>NE</td><td><div class=\"dni-plaintext\">41</div></td><td><div class=\"dni-plaintext\">53</div></td><td><div class=\"dni-plaintext\">44</div></td><td><div class=\"dni-plaintext\">45</div></td><td><div class=\"dni-plaintext\">55</div></td><td><div class=\"dni-plaintext\">94</div></td><td><div class=\"dni-plaintext\">144</div></td><td><div class=\"dni-plaintext\">138</div></td><td><div class=\"dni-plaintext\">100</div></td></tr><tr><td><i><div class=\"dni-plaintext\">1</div></i></td><td>SE</td><td><div class=\"dni-plaintext\">43</div></td><td><div class=\"dni-plaintext\">48</div></td><td><div class=\"dni-plaintext\">49</div></td><td><div class=\"dni-plaintext\">52</div></td><td><div class=\"dni-plaintext\">46</div></td><td><div class=\"dni-plaintext\">91</div></td><td><div class=\"dni-plaintext\">147</div></td><td><div class=\"dni-plaintext\">140</div></td><td><div class=\"dni-plaintext\">98</div></td></tr><tr><td><i><div class=\"dni-plaintext\">2</div></i></td><td>SW</td><td><div class=\"dni-plaintext\">48</div></td><td><div class=\"dni-plaintext\">38</div></td><td><div class=\"dni-plaintext\">42</div></td><td><div class=\"dni-plaintext\">67</div></td><td><div class=\"dni-plaintext\">52</div></td><td><div class=\"dni-plaintext\">86</div></td><td><div class=\"dni-plaintext\">161</div></td><td><div class=\"dni-plaintext\">128</div></td><td><div class=\"dni-plaintext\">119</div></td></tr><tr><td><i><div class=\"dni-plaintext\">3</div></i></td><td>NW</td><td><div class=\"dni-plaintext\">40</div></td><td><div class=\"dni-plaintext\">58</div></td><td><div class=\"dni-plaintext\">68</div></td><td><div class=\"dni-plaintext\">58</div></td><td><div class=\"dni-plaintext\">53</div></td><td><div class=\"dni-plaintext\">98</div></td><td><div class=\"dni-plaintext\">179</div></td><td><div class=\"dni-plaintext\">166</div></td><td><div class=\"dni-plaintext\">111</div></td></tr><tr><td><i><div class=\"dni-plaintext\">4</div></i></td><td>East</td><td><div class=\"dni-plaintext\">84</div></td><td><div class=\"dni-plaintext\">101</div></td><td><div class=\"dni-plaintext\">93</div></td><td><div class=\"dni-plaintext\">97</div></td><td><div class=\"dni-plaintext\">101</div></td><td><div class=\"dni-plaintext\">185</div></td><td><div class=\"dni-plaintext\">291</div></td><td><div class=\"dni-plaintext\">278</div></td><td><div class=\"dni-plaintext\">198</div></td></tr><tr><td><i><div class=\"dni-plaintext\">5</div></i></td><td>West</td><td><div class=\"dni-plaintext\">88</div></td><td><div class=\"dni-plaintext\">96</div></td><td><div class=\"dni-plaintext\">110</div></td><td><div class=\"dni-plaintext\">125</div></td><td><div class=\"dni-plaintext\">105</div></td><td><div class=\"dni-plaintext\">184</div></td><td><div class=\"dni-plaintext\">340</div></td><td><div class=\"dni-plaintext\">294</div></td><td><div class=\"dni-plaintext\">230</div></td></tr><tr><td><i><div class=\"dni-plaintext\">6</div></i></td><td>North</td><td><div class=\"dni-plaintext\">81</div></td><td><div class=\"dni-plaintext\">111</div></td><td><div class=\"dni-plaintext\">112</div></td><td><div class=\"dni-plaintext\">103</div></td><td><div class=\"dni-plaintext\">108</div></td><td><div class=\"dni-plaintext\">192</div></td><td><div class=\"dni-plaintext\">323</div></td><td><div class=\"dni-plaintext\">304</div></td><td><div class=\"dni-plaintext\">211</div></td></tr><tr><td><i><div class=\"dni-plaintext\">7</div></i></td><td>South</td><td><div class=\"dni-plaintext\">91</div></td><td><div class=\"dni-plaintext\">86</div></td><td><div class=\"dni-plaintext\">91</div></td><td><div class=\"dni-plaintext\">119</div></td><td><div class=\"dni-plaintext\">98</div></td><td><div class=\"dni-plaintext\">177</div></td><td><div class=\"dni-plaintext\">308</div></td><td><div class=\"dni-plaintext\">268</div></td><td><div class=\"dni-plaintext\">217</div></td></tr></tbody></table>"
      ]
     },
     "metadata": {},
     "output_type": "display_data"
    }
   ],
   "source": [
    "#r \"nuget:Microsoft.Data.Analysis\"\n",
    "using Microsoft.Data.Analysis;\n",
    "\n",
    "var sprops = new XSpecProperties();\n",
    "var dprops = new XDisplayProperties();\n",
    "//dprops.Output.Format = XOutputFormat.None;   // This is the default\n",
    "engine.GenTab(\"Demo of Age × Region\", \"Age\", \"Region\", null, null, sprops, dprops);\n",
    "var fmt = new XDataFrameFormat();\n",
    "DataFrame df = fmt.Format(engine.Job.DisplayTable, DisplayFlag.DspFREQUENCIES);\n",
    "df.Display();"
   ]
  },
  {
   "cell_type": "markdown",
   "metadata": {},
   "source": [
    "The DataFrame is passed into the Plotly.NET library to generate charts."
   ]
  },
  {
   "cell_type": "code",
   "execution_count": null,
   "metadata": {
    "dotnet_interactive": {
     "language": "csharp"
    },
    "vscode": {
     "languageId": "dotnet-interactive.csharp"
    }
   },
   "outputs": [
    {
     "data": {
      "text/html": [
       "<div><div></div><div></div><div><strong>Installed Packages</strong><ul><li><span>Microsoft.Graph, 4.41.0</span></li><li><span>XPlot.Plotly, 4.0.6</span></li><li><span>XPlot.Plotly.Interactive, 4.0.6</span></li></ul></div></div>"
      ]
     },
     "metadata": {},
     "output_type": "display_data"
    },
    {
     "data": {
      "text/html": [
       "<!DOCTYPE html>\r\n",
       "<div style=\"width: 900px; height: 500px;\" id=\"bff45092-2adc-4d0e-8651-72cb78ef065e\"></div><script type=\"text/javascript\">\r\n",
       "\n",
       "var renderPlotly = function() {\n",
       "    var xplotRequire = require.config({context:'xplot-3.0.1',paths:{plotly:'https://cdn.plot.ly/plotly-1.49.2.min'}}) || require;\n",
       "    xplotRequire(['plotly'], function(Plotly) { \r\n",
       "\n",
       "            var data = [{\"type\":\"bar\",\"x\":[\"NE\",\"SE\",\"SW\",\"NW\",\"East\",\"West\",\"North\",\"South\"],\"y\":[41.0,43.0,48.0,40.0,84.0,88.0,81.0,91.0],\"name\":\"15-25\"},{\"type\":\"bar\",\"x\":[\"NE\",\"SE\",\"SW\",\"NW\",\"East\",\"West\",\"North\",\"South\"],\"y\":[53.0,48.0,38.0,58.0,101.0,96.0,111.0,86.0],\"name\":\"26-35\"},{\"type\":\"bar\",\"x\":[\"NE\",\"SE\",\"SW\",\"NW\",\"East\",\"West\",\"North\",\"South\"],\"y\":[44.0,49.0,42.0,68.0,93.0,110.0,112.0,91.0],\"name\":\"36-50\"},{\"type\":\"bar\",\"x\":[\"NE\",\"SE\",\"SW\",\"NW\",\"East\",\"West\",\"North\",\"South\"],\"y\":[45.0,52.0,67.0,58.0,97.0,125.0,103.0,119.0],\"name\":\"51-65\"},{\"type\":\"bar\",\"x\":[\"NE\",\"SE\",\"SW\",\"NW\",\"East\",\"West\",\"North\",\"South\"],\"y\":[55.0,46.0,52.0,53.0,101.0,105.0,108.0,98.0],\"name\":\"65+\"}];\n",
       "           var layout = {\"title\":\"Age x Region\"};\n",
       "           Plotly.newPlot('bff45092-2adc-4d0e-8651-72cb78ef065e', data, layout);\n",
       "        \r\n",
       "});\n",
       "};\r\n",
       "// ensure `require` is available globally\r\n",
       "if ((typeof(require) !==  typeof(Function)) || (typeof(require.config) !== typeof(Function))) {\r\n",
       "    let require_script = document.createElement('script');\r\n",
       "    require_script.setAttribute('src', 'https://cdnjs.cloudflare.com/ajax/libs/require.js/2.3.6/require.min.js');\r\n",
       "    require_script.setAttribute('type', 'text/javascript');\r\n",
       "    \r\n",
       "    \r\n",
       "    require_script.onload = function() {\r\n",
       "        renderPlotly();\r\n",
       "    };\r\n",
       "\r\n",
       "    document.getElementsByTagName('head')[0].appendChild(require_script);\r\n",
       "}\r\n",
       "else {\r\n",
       "    renderPlotly();\r\n",
       "}\r\n",
       "\r\n",
       "</script>\r\n"
      ]
     },
     "metadata": {},
     "output_type": "display_data"
    }
   ],
   "source": [
    "#r \"nuget:XPlot.Plotly\"\n",
    "#r \"nuget:XPlot.Plotly.Interactive\"\n",
    "#r \"nuget:Microsoft.Graph\"\n",
    "using XPlot.Plotly;\n",
    "using XPlot.Plotly.Interactive;\n",
    "List<Bar> bars = new List<Bar>();\n",
    "Bar MakeBar(string colname) => new Bar() { x = df.Columns[\"key\"], y = df.Columns[colname], name = colname };\n",
    "bars.Add(MakeBar(\"15-25\"));\n",
    "bars.Add(MakeBar(\"26-35\"));\n",
    "bars.Add(MakeBar(\"36-50\"));\n",
    "bars.Add(MakeBar(\"51-65\"));\n",
    "bars.Add(MakeBar(\"65+\"));\n",
    "var chart = Chart.Plot(bars);\n",
    "var layout = new Layout.Layout()\n",
    "{\n",
    "    title = \"Age x Region\"\n",
    "};\n",
    "chart.WithLayout(layout);\n",
    "chart.Display();"
   ]
  },
  {
   "cell_type": "code",
   "execution_count": null,
   "metadata": {
    "dotnet_interactive": {
     "language": "csharp"
    },
    "vscode": {
     "languageId": "dotnet-interactive.csharp"
    }
   },
   "outputs": [
    {
     "name": "stdout",
     "output_type": "stream",
     "text": [
      "Job closed -> True\r\n"
     ]
    },
    {
     "data": {
      "text/html": [
       "<div class=\"dni-plaintext\">1</div>"
      ]
     },
     "metadata": {},
     "output_type": "display_data"
    }
   ],
   "source": [
    "bool closed = engine.CloseJob();\n",
    "Console.WriteLine($\"Job closed -> {closed}\");"
   ]
  }
 ],
 "metadata": {
  "kernelspec": {
   "display_name": ".NET (C#)",
   "language": "C#",
   "name": ".net-csharp"
  },
  "language_info": {
   "file_extension": ".cs",
   "mimetype": "text/x-csharp",
   "name": "C#",
   "pygments_lexer": "csharp",
   "version": "9.0"
  },
  "orig_nbformat": 4
 },
 "nbformat": 4,
 "nbformat_minor": 2
}
