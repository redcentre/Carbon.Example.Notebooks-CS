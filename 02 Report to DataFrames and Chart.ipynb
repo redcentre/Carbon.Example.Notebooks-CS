{
 "cells": [
  {
   "cell_type": "markdown",
   "metadata": {},
   "source": [
    "### C# Interactive Notebook - Carbon Example No.2\n",
    "\n",
    "This example notebook demonstrates how the Carbon library can generate a cross-tabulation report as a [DataFrame](https://learn.microsoft.com/en-us/dotnet/api/microsoft.data.analysis.dataframe) which is defined in the [Microsoft.Data.Analysis](https://learn.microsoft.com/en-us/dotnet/api/microsoft.data.analysis) namespace. The DataFrame class is designed to hold rows and columns of data and it provides powerful methods designed to help data scientists select, transform and report on the data. The DataFrame class is recognised by many public data analysis libraries, including [Plotly.NET](https://plotly.net/) which can generate a wide variety of charts and plots from the data contained in a DataFrame. This notebook demonstrates how Carbon can generate a DataFrame which is then used create attractive visualisations.\n",
    "\n",
    "---\n",
    "\n",
    "The first cell contains *boilerplate* code to create a Carbon engine, login and open a demo cloud job."
   ]
  },
  {
   "cell_type": "code",
   "execution_count": null,
   "metadata": {
    "dotnet_interactive": {
     "language": "csharp"
    },
    "vscode": {
     "languageId": "dotnet-interactive.csharp"
    }
   },
   "outputs": [
    {
     "data": {
      "text/html": [
       "<div><div></div><div></div><div><strong>Installed Packages</strong><ul><li><span>RCS.Carbon.TableOutput.DataFrame, 8.3.10</span></li><li><span>RCS.Carbon.Tables, 8.3.10</span></li></ul></div></div>"
      ]
     },
     "metadata": {},
     "output_type": "display_data"
    }
   ],
   "source": [
    "#r \"nuget: RCS.Carbon.Tables, 8.3.10\"\n",
    "#r \"nuget: RCS.Carbon.TableOutput.DataFrame, 8.3.10\"\n",
    "using RCS.Carbon.Tables;\n",
    "using RCS.Carbon.Variables;\n",
    "using RCS.Carbon.Shared;\n",
    "using RCS.Carbon.TableOutput.DataFrame;\n",
    "\n",
    "var engine = new CrossTabEngine();\n",
    "await engine.LoginId(\"16499372\", \"C6H12O6\");\n",
    "engine.OpenJob(\"rcsruby\", \"demo\");\n"
   ]
  },
  {
   "cell_type": "markdown",
   "metadata": {},
   "source": [
    "The Carbon `Gentab` method runs cross-tabulation processing with \"Age\" as the top variables and \"Region\" as the side variable. An instance of the `XDataFrameFormat` helper class is created to convert the internal display table into a DataFrame."
   ]
  },
  {
   "cell_type": "code",
   "execution_count": null,
   "metadata": {
    "dotnet_interactive": {
     "language": "csharp"
    },
    "vscode": {
     "languageId": "dotnet-interactive.csharp"
    }
   },
   "outputs": [
    {
     "data": {
      "text/html": [
       "<table id=\"table_637995186632612508\"><thead><tr><th><i>index</i></th><th>key</th><th>15-25</th><th>26-35</th><th>36-50</th><th>51-65</th><th>65+</th><th>Under 35</th><th>Over 35</th><th>Under 50</th><th>Over 50</th></tr></thead><tbody><tr><td><i><div class=\"dni-plaintext\">0</div></i></td><td>NE</td><td><div class=\"dni-plaintext\">479</div></td><td><div class=\"dni-plaintext\">498</div></td><td><div class=\"dni-plaintext\">501</div></td><td><div class=\"dni-plaintext\">504</div></td><td><div class=\"dni-plaintext\">540</div></td><td><div class=\"dni-plaintext\">977</div></td><td><div class=\"dni-plaintext\">1545</div></td><td><div class=\"dni-plaintext\">1478</div></td><td><div class=\"dni-plaintext\">1044</div></td></tr><tr><td><i><div class=\"dni-plaintext\">1</div></i></td><td>SE</td><td><div class=\"dni-plaintext\">459</div></td><td><div class=\"dni-plaintext\">441</div></td><td><div class=\"dni-plaintext\">510</div></td><td><div class=\"dni-plaintext\">514</div></td><td><div class=\"dni-plaintext\">535</div></td><td><div class=\"dni-plaintext\">900</div></td><td><div class=\"dni-plaintext\">1559</div></td><td><div class=\"dni-plaintext\">1410</div></td><td><div class=\"dni-plaintext\">1049</div></td></tr><tr><td><i><div class=\"dni-plaintext\">2</div></i></td><td>SW</td><td><div class=\"dni-plaintext\">523</div></td><td><div class=\"dni-plaintext\">467</div></td><td><div class=\"dni-plaintext\">457</div></td><td><div class=\"dni-plaintext\">517</div></td><td><div class=\"dni-plaintext\">511</div></td><td><div class=\"dni-plaintext\">990</div></td><td><div class=\"dni-plaintext\">1485</div></td><td><div class=\"dni-plaintext\">1447</div></td><td><div class=\"dni-plaintext\">1028</div></td></tr><tr><td><i><div class=\"dni-plaintext\">3</div></i></td><td>NW</td><td><div class=\"dni-plaintext\">469</div></td><td><div class=\"dni-plaintext\">510</div></td><td><div class=\"dni-plaintext\">542</div></td><td><div class=\"dni-plaintext\">499</div></td><td><div class=\"dni-plaintext\">524</div></td><td><div class=\"dni-plaintext\">979</div></td><td><div class=\"dni-plaintext\">1565</div></td><td><div class=\"dni-plaintext\">1521</div></td><td><div class=\"dni-plaintext\">1023</div></td></tr><tr><td><i><div class=\"dni-plaintext\">4</div></i></td><td>East</td><td><div class=\"dni-plaintext\">938</div></td><td><div class=\"dni-plaintext\">939</div></td><td><div class=\"dni-plaintext\">1011</div></td><td><div class=\"dni-plaintext\">1018</div></td><td><div class=\"dni-plaintext\">1075</div></td><td><div class=\"dni-plaintext\">1877</div></td><td><div class=\"dni-plaintext\">3104</div></td><td><div class=\"dni-plaintext\">2888</div></td><td><div class=\"dni-plaintext\">2093</div></td></tr><tr><td><i><div class=\"dni-plaintext\">5</div></i></td><td>West</td><td><div class=\"dni-plaintext\">992</div></td><td><div class=\"dni-plaintext\">977</div></td><td><div class=\"dni-plaintext\">999</div></td><td><div class=\"dni-plaintext\">1016</div></td><td><div class=\"dni-plaintext\">1035</div></td><td><div class=\"dni-plaintext\">1969</div></td><td><div class=\"dni-plaintext\">3050</div></td><td><div class=\"dni-plaintext\">2968</div></td><td><div class=\"dni-plaintext\">2051</div></td></tr><tr><td><i><div class=\"dni-plaintext\">6</div></i></td><td>North</td><td><div class=\"dni-plaintext\">948</div></td><td><div class=\"dni-plaintext\">1008</div></td><td><div class=\"dni-plaintext\">1043</div></td><td><div class=\"dni-plaintext\">1003</div></td><td><div class=\"dni-plaintext\">1064</div></td><td><div class=\"dni-plaintext\">1956</div></td><td><div class=\"dni-plaintext\">3110</div></td><td><div class=\"dni-plaintext\">2999</div></td><td><div class=\"dni-plaintext\">2067</div></td></tr><tr><td><i><div class=\"dni-plaintext\">7</div></i></td><td>South</td><td><div class=\"dni-plaintext\">982</div></td><td><div class=\"dni-plaintext\">908</div></td><td><div class=\"dni-plaintext\">967</div></td><td><div class=\"dni-plaintext\">1031</div></td><td><div class=\"dni-plaintext\">1046</div></td><td><div class=\"dni-plaintext\">1890</div></td><td><div class=\"dni-plaintext\">3044</div></td><td><div class=\"dni-plaintext\">2857</div></td><td><div class=\"dni-plaintext\">2077</div></td></tr></tbody></table>"
      ]
     },
     "metadata": {},
     "output_type": "display_data"
    }
   ],
   "source": [
    "var sprops = new XSpecProperties();\n",
    "var dprops = new XDisplayProperties();\n",
    "//dprops.Output.Format = XOutputFormat.None;   // This is the default\n",
    "engine.GenTab(\"Demo of Age × Region\", \"Age\", \"Region\", null, null, sprops, dprops);\n",
    "var fmt = new XDataFrameFormat();\n",
    "DataFrame df = fmt.Format(engine.Job.DisplayTable, DisplayFlag.DspFREQUENCIES);\n",
    "df.Display();"
   ]
  },
  {
   "cell_type": "markdown",
   "metadata": {},
   "source": [
    "The DataFrame is passed into the Plotly.NET library to generate charts."
   ]
  },
  {
   "cell_type": "code",
   "execution_count": null,
   "metadata": {
    "dotnet_interactive": {
     "language": "csharp"
    },
    "vscode": {
     "languageId": "dotnet-interactive.csharp"
    }
   },
   "outputs": [
    {
     "data": {
      "text/html": [
       "<div><div></div><div></div><div><strong>Installed Packages</strong><ul><li><span>microsoft.data.analysis, 0.19.1</span></li><li><span>Microsoft.Graph, 4.41.0</span></li><li><span>XPlot.Plotly, 4.0.6</span></li><li><span>XPlot.Plotly.Interactive, 4.0.6</span></li></ul></div></div>"
      ]
     },
     "metadata": {},
     "output_type": "display_data"
    },
    {
     "data": {
      "text/html": [
       "<!DOCTYPE html>\r\n",
       "<div style=\"width: 900px; height: 500px;\" id=\"33e3025a-75e6-4b6b-8bae-b25d266d1e67\"></div><script type=\"text/javascript\">\r\n",
       "\n",
       "var renderPlotly = function() {\n",
       "    var xplotRequire = require.config({context:'xplot-3.0.1',paths:{plotly:'https://cdn.plot.ly/plotly-1.49.2.min'}}) || require;\n",
       "    xplotRequire(['plotly'], function(Plotly) { \r\n",
       "\n",
       "            var data = [{\"type\":\"bar\",\"x\":[\"NE\",\"SE\",\"SW\",\"NW\",\"East\",\"West\",\"North\",\"South\"],\"y\":[479.0,459.0,523.0,469.0,938.0,992.0,948.0,982.0],\"name\":\"15-25\"},{\"type\":\"bar\",\"x\":[\"NE\",\"SE\",\"SW\",\"NW\",\"East\",\"West\",\"North\",\"South\"],\"y\":[498.0,441.0,467.0,510.0,939.0,977.0,1008.0,908.0],\"name\":\"26-35\"},{\"type\":\"bar\",\"x\":[\"NE\",\"SE\",\"SW\",\"NW\",\"East\",\"West\",\"North\",\"South\"],\"y\":[501.0,510.0,457.0,542.0,1011.0,999.0,1043.0,967.0],\"name\":\"36-50\"},{\"type\":\"bar\",\"x\":[\"NE\",\"SE\",\"SW\",\"NW\",\"East\",\"West\",\"North\",\"South\"],\"y\":[504.0,514.0,517.0,499.0,1018.0,1016.0,1003.0,1031.0],\"name\":\"51-65\"},{\"type\":\"bar\",\"x\":[\"NE\",\"SE\",\"SW\",\"NW\",\"East\",\"West\",\"North\",\"South\"],\"y\":[540.0,535.0,511.0,524.0,1075.0,1035.0,1064.0,1046.0],\"name\":\"65+\"}];\n",
       "           var layout = {\"title\":\"Age x Region\"};\n",
       "           Plotly.newPlot('33e3025a-75e6-4b6b-8bae-b25d266d1e67', data, layout);\n",
       "        \r\n",
       "});\n",
       "};\r\n",
       "// ensure `require` is available globally\r\n",
       "if ((typeof(require) !==  typeof(Function)) || (typeof(require.config) !== typeof(Function))) {\r\n",
       "    let require_script = document.createElement('script');\r\n",
       "    require_script.setAttribute('src', 'https://cdnjs.cloudflare.com/ajax/libs/require.js/2.3.6/require.min.js');\r\n",
       "    require_script.setAttribute('type', 'text/javascript');\r\n",
       "    \r\n",
       "    \r\n",
       "    require_script.onload = function() {\r\n",
       "        renderPlotly();\r\n",
       "    };\r\n",
       "\r\n",
       "    document.getElementsByTagName('head')[0].appendChild(require_script);\r\n",
       "}\r\n",
       "else {\r\n",
       "    renderPlotly();\r\n",
       "}\r\n",
       "\r\n",
       "</script>\r\n"
      ]
     },
     "metadata": {},
     "output_type": "display_data"
    }
   ],
   "source": [
    "#r \"nuget:Microsoft.Data.Analysis\"\n",
    "#r \"nuget:XPlot.Plotly\"\n",
    "#r \"nuget:XPlot.Plotly.Interactive\"\n",
    "#r \"nuget:Microsoft.Graph\"\n",
    "using XPlot.Plotly;\n",
    "using XPlot.Plotly.Interactive;\n",
    "using Microsoft.Data.Analysis;\n",
    "List<Bar> bars = new List<Bar>();\n",
    "Bar MakeBar(string colname) => new Bar() { x = df.Columns[\"key\"], y = df.Columns[colname], name = colname };\n",
    "bars.Add(MakeBar(\"15-25\"));\n",
    "bars.Add(MakeBar(\"26-35\"));\n",
    "bars.Add(MakeBar(\"36-50\"));\n",
    "bars.Add(MakeBar(\"51-65\"));\n",
    "bars.Add(MakeBar(\"65+\"));\n",
    "var chart = Chart.Plot(bars);\n",
    "var layout = new Layout.Layout()\n",
    "{\n",
    "    title = \"Age x Region\"\n",
    "};\n",
    "chart.WithLayout(layout);\n",
    "chart.Display();"
   ]
  },
  {
   "cell_type": "code",
   "execution_count": null,
   "metadata": {
    "dotnet_interactive": {
     "language": "csharp"
    },
    "vscode": {
     "languageId": "dotnet-interactive.csharp"
    }
   },
   "outputs": [
    {
     "name": "stdout",
     "output_type": "stream",
     "text": [
      "Job closed -> True\r\n"
     ]
    },
    {
     "data": {
      "text/html": [
       "<div class=\"dni-plaintext\">1</div>"
      ]
     },
     "metadata": {},
     "output_type": "display_data"
    }
   ],
   "source": [
    "bool closed = engine.CloseJob();\n",
    "Console.WriteLine($\"Job closed -> {closed}\");\n",
    "await engine.LogoutId(\"16499372\")"
   ]
  },
  {
   "cell_type": "code",
   "execution_count": null,
   "metadata": {
    "dotnet_interactive": {
     "language": "csharp"
    },
    "vscode": {
     "languageId": "dotnet-interactive.csharp"
    }
   },
   "outputs": [],
   "source": []
  }
 ],
 "metadata": {
  "kernelspec": {
   "display_name": ".NET (C#)",
   "language": "C#",
   "name": ".net-csharp"
  },
  "language_info": {
   "file_extension": ".cs",
   "mimetype": "text/x-csharp",
   "name": "C#",
   "pygments_lexer": "csharp",
   "version": "9.0"
  },
  "orig_nbformat": 4
 },
 "nbformat": 4,
 "nbformat_minor": 2
}
