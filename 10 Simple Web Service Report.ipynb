{
 "cells": [
  {
   "cell_type": "markdown",
   "metadata": {},
   "source": [
    "### C# Interactive Notebook - Carbon Example No.3\n",
    "\n",
    "This example notebook demonstrates how a .NET client app can use the `Carbon.Examples.WebService.Common` NuGet package to make strongly-typed calls to the [Carbon web service](https://rcsapps.azurewebsites.net/carbon/swagger/). Although this notebook acts as a .NET client, REST style web services are designed to be platform neutral and can work with all modern languages that have REST service support, such as Java, JavaScript, Rust, Kotlin, Swift, and many more.\n",
    "\n",
    "Referencing the **Carbon.Examples.WebService.Common** NuGet package will download and cache all the required libraries, which are then named in using statements for coding convenience."
   ]
  },
  {
   "cell_type": "code",
   "execution_count": 1,
   "metadata": {
    "dotnet_interactive": {
     "language": "csharp"
    },
    "vscode": {
     "languageId": "polyglot-notebook"
    }
   },
   "outputs": [
    {
     "data": {
      "text/html": [
       "<div><div></div><div></div><div><strong>Installed Packages</strong><ul><li><span>RCS.Carbon.Examples.WebService.Common, 1.6.9</span></li></ul></div></div>"
      ]
     },
     "metadata": {},
     "output_type": "display_data"
    }
   ],
   "source": [
    "#r \"nuget: RCS.Carbon.Examples.WebService.Common\"\n",
    "using Carbon.Examples.WebService.Common;\n",
    "using RCS.Carbon.Shared;"
   ]
  },
  {
   "cell_type": "markdown",
   "metadata": {},
   "source": [
    "Create an instance of the service client and make a `GetServiceInfo` call to sanity check that the service is responding correctly. Some interesting values in the response are displayed."
   ]
  },
  {
   "cell_type": "code",
   "execution_count": 2,
   "metadata": {
    "dotnet_interactive": {
     "language": "csharp"
    },
    "vscode": {
     "languageId": "polyglot-notebook"
    }
   },
   "outputs": [
    {
     "name": "stdout",
     "output_type": "stream",
     "text": [
      "Host Machine ....... pd0mdwk0000LD\n",
      "Host Account ....... rcsapps\n",
      "Service Version .... 1.6.9.0\n",
      "Service Build ...... 2023-06-08 11:05 GMT+10\n",
      "Carbon Version ..... 8.4.33.0\n",
      "Carbon Build ....... 2023-06-08 11:51 GMT+10\n"
     ]
    }
   ],
   "source": [
    "var client = new CarbonServiceClient(\"https://rcsapps.azurewebsites.net/carbon/\");\n",
    "ServiceInfo info = await client.GetServiceInfo();\n",
    "Console.WriteLine($\"Host Machine ....... {info.HostMachine}\");\n",
    "Console.WriteLine($\"Host Account ....... {info.HostAccount}\");\n",
    "Console.WriteLine($\"Service Version .... {info.Version}\");\n",
    "Console.WriteLine($\"Service Build ...... {info.Build}\");\n",
    "Console.WriteLine($\"Carbon Version ..... {info.CarbonVersion}\");\n",
    "Console.WriteLine($\"Carbon Build ....... {info.CarbonBuild}\");"
   ]
  },
  {
   "cell_type": "markdown",
   "metadata": {},
   "source": [
    "The call to `StartSessionFree` starts a web service session using the *free* account that is provided by Red Centre Software for testing and demonstrations. The response contains a *Session Id* which is held inside the client to indicate that subsequent calls are authorised. The response also contains interesting information, such as a hierarchical set of customers, jobs and variable trees that the account is authorised to access. Apps with a GUI could present the session information in tree controls or other selector controls, but in this case the Ids and names are simply displayed."
   ]
  },
  {
   "cell_type": "code",
   "execution_count": 3,
   "metadata": {
    "dotnet_interactive": {
     "language": "csharp"
    },
    "vscode": {
     "languageId": "polyglot-notebook"
    }
   },
   "outputs": [
    {
     "name": "stdout",
     "output_type": "stream",
     "text": [
      "Session Id ........ DQN3FWE8GA\n",
      "Account Id ........ 10000010\n",
      "Account Name ...... free\n",
      "|  3625340368 rcsruby\n",
      "|  |  25303847 demo [VarTree,TsapiTree]\n",
      "|  |  21372990 minidemo [TsapiTree,VarTree]\n",
      "|  3382340368 rcspublic\n",
      "|  |  29938684 gridwatchuk [VarTree]\n",
      "|  |  23464980 uk-ge2019 [VarTree]\n",
      "|  |  27811105 cdc-covid [VarTree]\n",
      "|  |  27468214 firstfleet [VarTree]\n",
      "|  |  25895325 stockmarkets [VarTree]\n",
      "|  |  24098249 gss [VarTree]\n",
      "|  |  23325371 aemo [VarTree]\n",
      "|  |  22826258 romeo-juliet [vartree]\n",
      "|  |  24821945 cov19-global [VarTree]\n"
     ]
    }
   ],
   "source": [
    "SessionInfo sess = await client.StartSessionFree(\"Example Notebook\");\n",
    "Console.WriteLine($\"Session Id ........ {sess.SessionId}\");\n",
    "Console.WriteLine($\"Account Id ........ {sess.Id}\");\n",
    "Console.WriteLine($\"Account Name ...... {sess.Name}\");\n",
    "foreach (var cust in sess.SessionCusts)\n",
    "{\n",
    "    Console.WriteLine($\"|  {cust.Id} {cust.Name}\");\n",
    "    foreach (var job in cust.SessionJobs)\n",
    "    {\n",
    "        string jobline = $\"{job.Id} {job.Name}\";\n",
    "        if (job.VartreeNames?.Length > 0)\n",
    "        {\n",
    "            jobline += \" [\" + string.Join(\",\", job.VartreeNames) + \"]\";\n",
    "        }\n",
    "        Console.WriteLine($\"|  |  {jobline}\");\n",
    "    }\n",
    "}"
   ]
  },
  {
   "cell_type": "markdown",
   "metadata": {},
   "source": [
    "The `OpenCloudJob` call opens one of the public demo *jobs* published by Red Centre Software. A *job* is a complete set of related data, variables and settings that generate cross-tabulation reports, must like a folder is used to group together related files. Only one job can be open and associated with the client session at any time.\n",
    "\n",
    "A default specification properties object is created. A display specification object is created and one of its properties is adjusted to indicate that TSV (tab separated value) output format is required. The two objects can be used to customise the behaviour and appearance of corss-tabulation reports in great detail, but for this example only one property needs to be changed.\n",
    "\n",
    "The `GenTab` call generates the report using the variables \"Age\" and \"Region\" as the top and side variables respectively. The report is a set of text lines that are displayed."
   ]
  },
  {
   "cell_type": "code",
   "execution_count": 4,
   "metadata": {
    "dotnet_interactive": {
     "language": "csharp"
    },
    "vscode": {
     "languageId": "polyglot-notebook"
    }
   },
   "outputs": [
    {
     "name": "stdout",
     "output_type": "stream",
     "text": [
      "| Name: GenTab1\n",
      "| Top: Age\n",
      "| Side: Region\n",
      "| \t15-25\t26-35\t36-50\t51-65\t65+\tUnder 35\tOver 35\tUnder 50\tOver 50\n",
      "| NE\t41\t53\t44\t45\t55\t94.00\t144.00\t138.00\t100.00\n",
      "| SE\t43\t48\t49\t52\t46\t91.00\t147.00\t140.00\t98.00\n",
      "| SW\t48\t38\t42\t67\t52\t86.00\t161.00\t128.00\t119.00\n",
      "| NW\t40\t58\t68\t58\t53\t98.00\t179.00\t166.00\t111.00\n",
      "| East\t84\t101\t93\t97\t101\t185.00\t291.00\t278.00\t198.00\n",
      "| West\t88\t96\t110\t125\t105\t184.00\t340.00\t294.00\t230.00\n",
      "| North\t81\t111\t112\t103\t108\t192.00\t323.00\t304.00\t211.00\n",
      "| South\t91\t86\t91\t119\t98\t177.00\t308.00\t268.00\t217.00\n"
     ]
    }
   ],
   "source": [
    "OpenCloudJobResponse openresp = await client.OpenCloudJob(\"rcsruby\", \"demo\", tocType: JobTocType.None);\n",
    "var sprops = new XSpecProperties();\n",
    "var dprops = new XDisplayProperties();\n",
    "dprops.Output.Format = XOutputFormat.TSV;\n",
    "string[] report = await client.GenTab(null, \"Age\", \"Region\", null, null, sprops, dprops);\n",
    "foreach (string line in report)\n",
    "{\n",
    "    Console.WriteLine($\"| {line}\");\n",
    "}"
   ]
  },
  {
   "cell_type": "markdown",
   "metadata": {},
   "source": [
    ":star: **Discussion point** &mdash; Cross-tabulation reports can be generated in a variety of formats such as TSV, CSV, HTML, XML, JSON and XLSX (an Excel workbook). Apps can choose the most suitable format for display on their runtime platform.\n",
    "\n",
    "When the calling app is finished with the client it should issue a `CloseJob` call to release any resources associated with a previously opened job, then `Dispose` of the client class instance."
   ]
  },
  {
   "cell_type": "code",
   "execution_count": 5,
   "metadata": {
    "dotnet_interactive": {
     "language": "csharp"
    },
    "vscode": {
     "languageId": "polyglot-notebook"
    }
   },
   "outputs": [],
   "source": [
    "await client.CloseJob();\n",
    "client.Dispose();"
   ]
  }
 ],
 "metadata": {
  "kernelspec": {
   "display_name": ".NET (C#)",
   "language": "C#",
   "name": ".net-csharp"
  },
  "language_info": {
   "name": "C#"
  }
 },
 "nbformat": 4,
 "nbformat_minor": 2
}
