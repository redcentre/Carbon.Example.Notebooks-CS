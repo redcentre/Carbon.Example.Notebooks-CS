{
 "cells": [
  {
   "attachments": {},
   "cell_type": "markdown",
   "metadata": {},
   "source": [
    "### C# Interactive Notebook - Carbon Example No.2\n",
    "\n",
    "This example notebook demonstrates how the Carbon library can generate a cross-tabulation report as a [DataFrame](https://learn.microsoft.com/en-us/dotnet/api/microsoft.data.analysis.dataframe) which is defined in the [Microsoft.Data.Analysis](https://learn.microsoft.com/en-us/dotnet/api/microsoft.data.analysis) namespace. The DataFrame class is designed to hold rows and columns of data and it provides powerful methods designed to help data scientists select, transform and report on the data. The DataFrame class is recognised by many public data analysis libraries, including [Plotly.NET](https://plotly.net/) which can generate a wide variety of charts and plots from the data contained in a DataFrame. This notebook demonstrates how Carbon can generate a DataFrame which is then used create attractive visualisations.\n",
    "\n",
    "---\n",
    "\n",
    "The first cell contains *boilerplate* code to create a Carbon engine, login and open a demo cloud job."
   ]
  },
  {
   "cell_type": "code",
   "execution_count": 3,
   "metadata": {
    "dotnet_interactive": {
     "language": "csharp"
    }
   },
   "outputs": [
    {
     "data": {
      "text/html": [
       "<div><div></div><div></div><div><strong>Installed Packages</strong><ul><li><span>RCS.Carbon.TableOutput.DataFrame, 9.1.40</span></li><li><span>RCS.Carbon.Tables, 9.1.40</span></li></ul></div></div>"
      ]
     },
     "metadata": {},
     "output_type": "display_data"
    }
   ],
   "source": [
    "#r \"nuget: RCS.Carbon.Tables\"\n",
    "#r \"nuget: RCS.Carbon.TableOutput.DataFrame\"\n",
    "using RCS.Carbon.Tables;\n",
    "using RCS.Carbon.Variables;\n",
    "using RCS.Carbon.Shared;\n",
    "using RCS.Carbon.TableOutput.DataFrame;\n",
    "using RCS.Licensing.Provider.Shared;\n",
    "\n",
    "var engine = new CrossTabEngine();\n",
    "await engine.GetFreeLicence();\n",
    "engine.OpenJob(\"rcsruby\", \"demo\");\n"
   ]
  },
  {
   "attachments": {},
   "cell_type": "markdown",
   "metadata": {},
   "source": [
    "The Carbon `Gentab` method runs cross-tabulation processing with \"Age\" as the top variables and \"Region\" as the side variable. An instance of the `XDataFrameFormat` helper class is created to convert the internal display table into a DataFrame."
   ]
  },
  {
   "cell_type": "code",
   "execution_count": 4,
   "metadata": {
    "dotnet_interactive": {
     "language": "csharp"
    }
   },
   "outputs": [
    {
     "data": {
      "text/html": [
       "<div><div></div><div></div><div><strong>Installed Packages</strong><ul><li><span>Microsoft.Data.Analysis, 0.22.2</span></li></ul></div></div>"
      ]
     },
     "metadata": {},
     "output_type": "display_data"
    },
    {
     "data": {
      "text/html": [
       "<table id=\"table_638870615019264853\"><thead><tr><th><i>index</i></th><th>key</th><th>15-25</th><th>26-35</th><th>36-50</th><th>51-65</th><th>65+</th><th>Under 35</th><th>Over 35</th><th>Under 50</th><th>Over 50</th></tr></thead><tbody><tr><td><i><div class=\"dni-plaintext\"><pre>0</pre></div></i></td><td>NE</td><td><div class=\"dni-plaintext\"><pre>41</pre></div></td><td><div class=\"dni-plaintext\"><pre>53</pre></div></td><td><div class=\"dni-plaintext\"><pre>44</pre></div></td><td><div class=\"dni-plaintext\"><pre>45</pre></div></td><td><div class=\"dni-plaintext\"><pre>55</pre></div></td><td><div class=\"dni-plaintext\"><pre>94</pre></div></td><td><div class=\"dni-plaintext\"><pre>144</pre></div></td><td><div class=\"dni-plaintext\"><pre>138</pre></div></td><td><div class=\"dni-plaintext\"><pre>100</pre></div></td></tr><tr><td><i><div class=\"dni-plaintext\"><pre>1</pre></div></i></td><td>SE</td><td><div class=\"dni-plaintext\"><pre>43</pre></div></td><td><div class=\"dni-plaintext\"><pre>48</pre></div></td><td><div class=\"dni-plaintext\"><pre>49</pre></div></td><td><div class=\"dni-plaintext\"><pre>52</pre></div></td><td><div class=\"dni-plaintext\"><pre>46</pre></div></td><td><div class=\"dni-plaintext\"><pre>91</pre></div></td><td><div class=\"dni-plaintext\"><pre>147</pre></div></td><td><div class=\"dni-plaintext\"><pre>140</pre></div></td><td><div class=\"dni-plaintext\"><pre>98</pre></div></td></tr><tr><td><i><div class=\"dni-plaintext\"><pre>2</pre></div></i></td><td>SW</td><td><div class=\"dni-plaintext\"><pre>48</pre></div></td><td><div class=\"dni-plaintext\"><pre>38</pre></div></td><td><div class=\"dni-plaintext\"><pre>42</pre></div></td><td><div class=\"dni-plaintext\"><pre>67</pre></div></td><td><div class=\"dni-plaintext\"><pre>52</pre></div></td><td><div class=\"dni-plaintext\"><pre>86</pre></div></td><td><div class=\"dni-plaintext\"><pre>161</pre></div></td><td><div class=\"dni-plaintext\"><pre>128</pre></div></td><td><div class=\"dni-plaintext\"><pre>119</pre></div></td></tr><tr><td><i><div class=\"dni-plaintext\"><pre>3</pre></div></i></td><td>NW</td><td><div class=\"dni-plaintext\"><pre>40</pre></div></td><td><div class=\"dni-plaintext\"><pre>58</pre></div></td><td><div class=\"dni-plaintext\"><pre>68</pre></div></td><td><div class=\"dni-plaintext\"><pre>58</pre></div></td><td><div class=\"dni-plaintext\"><pre>53</pre></div></td><td><div class=\"dni-plaintext\"><pre>98</pre></div></td><td><div class=\"dni-plaintext\"><pre>179</pre></div></td><td><div class=\"dni-plaintext\"><pre>166</pre></div></td><td><div class=\"dni-plaintext\"><pre>111</pre></div></td></tr><tr><td><i><div class=\"dni-plaintext\"><pre>4</pre></div></i></td><td>East</td><td><div class=\"dni-plaintext\"><pre>84</pre></div></td><td><div class=\"dni-plaintext\"><pre>101</pre></div></td><td><div class=\"dni-plaintext\"><pre>93</pre></div></td><td><div class=\"dni-plaintext\"><pre>97</pre></div></td><td><div class=\"dni-plaintext\"><pre>101</pre></div></td><td><div class=\"dni-plaintext\"><pre>185</pre></div></td><td><div class=\"dni-plaintext\"><pre>291</pre></div></td><td><div class=\"dni-plaintext\"><pre>278</pre></div></td><td><div class=\"dni-plaintext\"><pre>198</pre></div></td></tr><tr><td><i><div class=\"dni-plaintext\"><pre>5</pre></div></i></td><td>West</td><td><div class=\"dni-plaintext\"><pre>88</pre></div></td><td><div class=\"dni-plaintext\"><pre>96</pre></div></td><td><div class=\"dni-plaintext\"><pre>110</pre></div></td><td><div class=\"dni-plaintext\"><pre>125</pre></div></td><td><div class=\"dni-plaintext\"><pre>105</pre></div></td><td><div class=\"dni-plaintext\"><pre>184</pre></div></td><td><div class=\"dni-plaintext\"><pre>340</pre></div></td><td><div class=\"dni-plaintext\"><pre>294</pre></div></td><td><div class=\"dni-plaintext\"><pre>230</pre></div></td></tr><tr><td><i><div class=\"dni-plaintext\"><pre>6</pre></div></i></td><td>North</td><td><div class=\"dni-plaintext\"><pre>81</pre></div></td><td><div class=\"dni-plaintext\"><pre>111</pre></div></td><td><div class=\"dni-plaintext\"><pre>112</pre></div></td><td><div class=\"dni-plaintext\"><pre>103</pre></div></td><td><div class=\"dni-plaintext\"><pre>108</pre></div></td><td><div class=\"dni-plaintext\"><pre>192</pre></div></td><td><div class=\"dni-plaintext\"><pre>323</pre></div></td><td><div class=\"dni-plaintext\"><pre>304</pre></div></td><td><div class=\"dni-plaintext\"><pre>211</pre></div></td></tr><tr><td><i><div class=\"dni-plaintext\"><pre>7</pre></div></i></td><td>South</td><td><div class=\"dni-plaintext\"><pre>91</pre></div></td><td><div class=\"dni-plaintext\"><pre>86</pre></div></td><td><div class=\"dni-plaintext\"><pre>91</pre></div></td><td><div class=\"dni-plaintext\"><pre>119</pre></div></td><td><div class=\"dni-plaintext\"><pre>98</pre></div></td><td><div class=\"dni-plaintext\"><pre>177</pre></div></td><td><div class=\"dni-plaintext\"><pre>308</pre></div></td><td><div class=\"dni-plaintext\"><pre>268</pre></div></td><td><div class=\"dni-plaintext\"><pre>217</pre></div></td></tr></tbody></table><style>\r\n",
       ".dni-code-hint {\r\n",
       "    font-style: italic;\r\n",
       "    overflow: hidden;\r\n",
       "    white-space: nowrap;\r\n",
       "}\r\n",
       ".dni-treeview {\r\n",
       "    white-space: nowrap;\r\n",
       "}\r\n",
       ".dni-treeview td {\r\n",
       "    vertical-align: top;\r\n",
       "    text-align: start;\r\n",
       "}\r\n",
       "details.dni-treeview {\r\n",
       "    padding-left: 1em;\r\n",
       "}\r\n",
       "table td {\r\n",
       "    text-align: start;\r\n",
       "}\r\n",
       "table tr { \r\n",
       "    vertical-align: top; \r\n",
       "    margin: 0em 0px;\r\n",
       "}\r\n",
       "table tr td pre \r\n",
       "{ \r\n",
       "    vertical-align: top !important; \r\n",
       "    margin: 0em 0px !important;\r\n",
       "} \r\n",
       "table th {\r\n",
       "    text-align: start;\r\n",
       "}\r\n",
       "</style>"
      ]
     },
     "metadata": {},
     "output_type": "display_data"
    }
   ],
   "source": [
    "#r \"nuget:Microsoft.Data.Analysis\"\n",
    "using Microsoft.Data.Analysis;\n",
    "\n",
    "var sprops = new XSpecProperties();\n",
    "var dprops = new XDisplayProperties();\n",
    "//dprops.Output.Format = XOutputFormat.None;   // This is the default\n",
    "engine.GenTab(\"Demo of Age × Region\", \"Age\", \"Region\", null, null, sprops, dprops);\n",
    "var fmt = new XDataFrameFormat();\n",
    "DataFrame df = fmt.Format(engine.Job.DisplayTable, DisplayFlag.DspFREQUENCIES);\n",
    "df.Display();"
   ]
  },
  {
   "attachments": {},
   "cell_type": "markdown",
   "metadata": {},
   "source": [
    "The DataFrame is passed into the Plotly.NET library to generate charts."
   ]
  },
  {
   "cell_type": "code",
   "execution_count": 5,
   "metadata": {
    "dotnet_interactive": {
     "language": "csharp"
    }
   },
   "outputs": [
    {
     "data": {
      "text/html": [
       "<div><div></div><div></div><div><strong>Installed Packages</strong><ul><li><span>Microsoft.Graph, 5.83.0</span></li><li><span>XPlot.Plotly, 4.1.0</span></li><li><span>XPlot.Plotly.Interactive, 4.1.0</span></li></ul></div></div>"
      ]
     },
     "metadata": {},
     "output_type": "display_data"
    },
    {
     "data": {
      "text/html": [
       "<details open=\"open\" class=\"dni-treeview\"><summary><span class=\"dni-code-hint\"><code>XPlot.Plotly.PlotlyChart</code></span></summary><div><table><thead><tr></tr></thead><tbody><tr><td>Height</td><td><div class=\"dni-plaintext\"><pre>500</pre></div></td></tr><tr><td>Id</td><td><div class=\"dni-plaintext\"><pre>4d5a0027-6149-4912-9c5b-d65371911bb4</pre></div></td></tr><tr><td>PlotlySrc</td><td><div class=\"dni-plaintext\"><pre>https://cdn.plot.ly/plotly-latest.min.js</pre></div></td></tr><tr><td>Width</td><td><div class=\"dni-plaintext\"><pre>900</pre></div></td></tr></tbody></table></div></details><style>\r\n",
       ".dni-code-hint {\r\n",
       "    font-style: italic;\r\n",
       "    overflow: hidden;\r\n",
       "    white-space: nowrap;\r\n",
       "}\r\n",
       ".dni-treeview {\r\n",
       "    white-space: nowrap;\r\n",
       "}\r\n",
       ".dni-treeview td {\r\n",
       "    vertical-align: top;\r\n",
       "    text-align: start;\r\n",
       "}\r\n",
       "details.dni-treeview {\r\n",
       "    padding-left: 1em;\r\n",
       "}\r\n",
       "table td {\r\n",
       "    text-align: start;\r\n",
       "}\r\n",
       "table tr { \r\n",
       "    vertical-align: top; \r\n",
       "    margin: 0em 0px;\r\n",
       "}\r\n",
       "table tr td pre \r\n",
       "{ \r\n",
       "    vertical-align: top !important; \r\n",
       "    margin: 0em 0px !important;\r\n",
       "} \r\n",
       "table th {\r\n",
       "    text-align: start;\r\n",
       "}\r\n",
       "</style>"
      ]
     },
     "metadata": {},
     "output_type": "display_data"
    }
   ],
   "source": [
    "#r \"nuget:XPlot.Plotly\"\n",
    "#r \"nuget:XPlot.Plotly.Interactive\"\n",
    "#r \"nuget:Microsoft.Graph\"\n",
    "using XPlot.Plotly;\n",
    "using XPlot.Plotly.Interactive;\n",
    "List<Bar> bars = new List<Bar>();\n",
    "Bar MakeBar(string colname) => new Bar() { x = df.Columns[\"key\"], y = df.Columns[colname], name = colname };\n",
    "bars.Add(MakeBar(\"15-25\"));\n",
    "bars.Add(MakeBar(\"26-35\"));\n",
    "bars.Add(MakeBar(\"36-50\"));\n",
    "bars.Add(MakeBar(\"51-65\"));\n",
    "bars.Add(MakeBar(\"65+\"));\n",
    "var chart = Chart.Plot(bars);\n",
    "var layout = new Layout.Layout()\n",
    "{\n",
    "    title = \"Age x Region\"\n",
    "};\n",
    "chart.WithLayout(layout);\n",
    "chart.Display();"
   ]
  },
  {
   "cell_type": "code",
   "execution_count": 6,
   "metadata": {
    "dotnet_interactive": {
     "language": "csharp"
    }
   },
   "outputs": [
    {
     "name": "stdout",
     "output_type": "stream",
     "text": [
      "Job closed -> True\r\n"
     ]
    }
   ],
   "source": [
    "bool closed = engine.CloseJob();\n",
    "Console.WriteLine($\"Job closed -> {closed}\");"
   ]
  }
 ],
 "metadata": {
  "kernelspec": {
   "display_name": ".NET (C#)",
   "language": "C#",
   "name": ".net-csharp"
  },
  "language_info": {
   "file_extension": ".cs",
   "mimetype": "text/x-csharp",
   "name": "polyglot-notebook",
   "pygments_lexer": "csharp",
   "version": "9.0"
  },
  "orig_nbformat": 4,
  "polyglot_notebook": {
   "kernelInfo": {
    "defaultKernelName": "csharp",
    "items": [
     {
      "aliases": [],
      "name": "csharp"
     }
    ]
   }
  },
  "vscode": {
   "interpreter": {
    "hash": "26de051ba29f2982a8de78e945f0abaf191376122a1563185a90213a26c5da77"
   }
  }
 },
 "nbformat": 4,
 "nbformat_minor": 2
}
